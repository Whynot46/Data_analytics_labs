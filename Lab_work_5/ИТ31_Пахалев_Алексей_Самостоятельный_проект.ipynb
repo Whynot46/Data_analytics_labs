{
 "cells": [
  {
   "cell_type": "markdown",
   "metadata": {
    "id": "y1FSDBf8JZON"
   },
   "source": [
    "# Добро пожаловать в самостоятельный проект\n",
    "\n",
    "Самостоятельный проект — это практическая проверка знаний, приобретённых вами на вводном курсе. Каждый раздел посвящён отдельной стадии анализа данных с экскурсом в основы Python.\n",
    "\n",
    "Проект выполняется в пять этапов:\n",
    "\n",
    "•\tПостановка задачи\n",
    "\n",
    "•\tПолучение данных\n",
    "\n",
    "•\tПредобработка данных\n",
    "\n",
    "•\tАнализ данных\n",
    "\n",
    "•\tОформление результатов\n",
    "\n",
    "Для каждой части описаны шаги выполнения c теоретическим приложением. В Jupyter Notebook эти шаги связаны между собой выводами и результатами.\n",
    "\n",
    "**Исследование: Музыка больших городов**\n",
    "\n",
    "Яндекс.Музыка — это крупный продукт с огромным запасом данных для исследований. Команды таких сервисов для поддержания интереса к продукту и привлечения новых пользователей часто проводят исследования про пользователей. Чтобы удержать клиентов и привлечь новых, сделать бренд более узнаваемым, команда сервиса проводит исследования аудитории, и публикует интересные результаты. Например, интересно сравнить тексты, сочинённые нейросетью, с произведениями настоящих рэперов.\n",
    "Есть исследование, которое напоминает наше: о музыкальных предпочтениях в разных городах России.\n",
    "Итак, вопрос вам: как музыка, которая звучит по дороге на работу в понедельник утром, отличается от той, что играет в среду или в конце рабочей недели? Возьмите данные для Москвы и Петербурга. Сравните, что и в каком режиме слушают их жители.\n",
    "\n",
    "План исследования\n",
    "\n",
    "1.\tПолучение данных. Прочитайте данные, ознакомьтесь с ними.\n",
    "\n",
    "2.\tПредобработка данных. Избавьтесь от дубликатов, проблем с названиями столбцов и пропусками.\n",
    "\n",
    "3.\tАнализ данных. Ответьте на основные вопросы исследования, подготовьте отчётную таблицу или опишите полученный результат.\n",
    "\n",
    "4.\tПодведение итогов. Просмотрите выполненную работу и сформулируйте выводы.\n"
   ]
  },
  {
   "cell_type": "code",
   "execution_count": null,
   "metadata": {
    "colab": {
     "base_uri": "https://localhost:8080/"
    },
    "executionInfo": {
     "elapsed": 519,
     "status": "ok",
     "timestamp": 1727505173382,
     "user": {
      "displayName": "Наиль Нурмухамедов",
      "userId": "09916009234760301992"
     },
     "user_tz": -240
    },
    "id": "0UeK9j4AUm92",
    "outputId": "cfe76087-709f-4889-a408-f6810989097c"
   },
   "outputs": [
    {
     "name": "stdout",
     "output_type": "stream",
     "text": [
      "<class 'pandas.core.frame.DataFrame'>\n",
      "RangeIndex: 65079 entries, 0 to 65078\n",
      "Data columns (total 7 columns):\n",
      " #   Column    Non-Null Count  Dtype \n",
      "---  ------    --------------  ----- \n",
      " 0     userID  65079 non-null  object\n",
      " 1   Track     63848 non-null  object\n",
      " 2   artist    57876 non-null  object\n",
      " 3   genre     63881 non-null  object\n",
      " 4     City    65079 non-null  object\n",
      " 5   time      65079 non-null  object\n",
      " 6   Day       65079 non-null  object\n",
      "dtypes: object(7)\n",
      "memory usage: 3.5+ MB\n",
      "Список столбцов: ['  userID', 'Track', 'artist', 'genre', '  City  ', 'time', 'Day']\n",
      "Список столбцов: Index(['user_id', 'track_name', 'artist_name', 'genre_name',\n",
      "       'total_play_seconds', 'time', 'day'],\n",
      "      dtype='object')\n",
      "<class 'pandas.core.frame.DataFrame'>\n",
      "RangeIndex: 65079 entries, 0 to 65078\n",
      "Data columns (total 7 columns):\n",
      " #   Column              Non-Null Count  Dtype \n",
      "---  ------              --------------  ----- \n",
      " 0   user_id             65079 non-null  object\n",
      " 1   track_name          63848 non-null  object\n",
      " 2   artist_name         57876 non-null  object\n",
      " 3   genre_name          63881 non-null  object\n",
      " 4   total_play_seconds  65079 non-null  object\n",
      " 5   time                65079 non-null  object\n",
      " 6   day                 65079 non-null  object\n",
      "dtypes: object(7)\n",
      "memory usage: 3.5+ MB\n",
      "Статистика таблицы: None\n",
      "Пропущенные значения: user_id                  0\n",
      "track_name            1231\n",
      "artist_name           7203\n",
      "genre_name            1198\n",
      "total_play_seconds       0\n",
      "time                     0\n",
      "day                      0\n",
      "dtype: int64\n",
      "<class 'pandas.core.frame.DataFrame'>\n",
      "RangeIndex: 65079 entries, 0 to 65078\n",
      "Data columns (total 7 columns):\n",
      " #   Column              Non-Null Count  Dtype \n",
      "---  ------              --------------  ----- \n",
      " 0   user_id             65079 non-null  object\n",
      " 1   track_name          65079 non-null  object\n",
      " 2   artist_name         65079 non-null  object\n",
      " 3   genre_name          63881 non-null  object\n",
      " 4   total_play_seconds  65079 non-null  object\n",
      " 5   time                65079 non-null  object\n",
      " 6   day                 65079 non-null  object\n",
      "dtypes: object(7)\n",
      "memory usage: 3.5+ MB\n",
      "Повторная статистика таблицы: None\n",
      "Размер таблицы: (65079, 7)\n",
      "Кол-во дубликатов: 3826\n",
      "Повторный размер таблицы: (61253, 7)\n",
      "Количетсов слов 'электроника' в столбце genre_name: 0\n",
      "(2029, 7)\n",
      "Index(['user_id', 'track_name', 'artist_name', 'genre_name',\n",
      "       'total_play_seconds', 'time', 'day'],\n",
      "      dtype='object')\n"
     ]
    }
   ],
   "source": [
    "import pandas as pd\n",
    "df = pd.read_csv(\"./yandex_music.csv\")\n",
    "df.info()\n",
    "\n",
    "# 1 выводим список столбцов\n",
    "column_names = df.columns.tolist()\n",
    "print(f\"Список столбцов: {column_names}\")\n",
    "# 2 Список столбцов с новыми именами\n",
    "new_names = ['user_id','track_name','artist_name','genre_name','total_play_seconds', 'time', 'day']\n",
    "# 3 Переименование\n",
    "df = df.set_axis(new_names, axis = 'columns')\n",
    "# 4 Проверка\n",
    "print(f\"Список столбцов: {df.columns}\")\n",
    "# --------------------------------------------------------------------------------------------------------------------\n",
    "# 1 Статистика таблицы\n",
    "print(f\"Статистика таблицы: {df.info()}\")\n",
    "# 2 Пропущенные значения\n",
    "print(f\"Пропущенные значения: {df.isna().sum()}\")\n",
    "# 3 Замена пропущенных значений столбца на строку\n",
    "# fillna - делает замену; inplace=True - делает замену в самой таблицы без копии\n",
    "df['track_name'] = df['track_name'].fillna('unknown')\n",
    "# 4 Замена пропущенных значений\n",
    "df['artist_name'] = df['artist_name'].fillna('unknown')\n",
    "# 5 Удаление пропущенных значений\n",
    "df.dropna(subset=['genre_name'])\n",
    "# 6\n",
    "print(f\"Повторная статистика таблицы: {df.info()}\")\n",
    "# --------------------------------------------------------------------------------------------------------------------\n",
    "# 1 Узнаём размер таблицы\n",
    "shape_table = df.shape\n",
    "print(f\"Размер таблицы: {shape_table}\")\n",
    "# 2 Узнаём кол-во дубликатов\n",
    "print(f\"Кол-во дубликатов: {df.duplicated().sum()}\")\n",
    "# 3 Удаляем дубликаты и сбрасываем индексы\n",
    "# drop=True - оригинальный индекс будет удален и создан новый целочисленный индекс.\n",
    "df.drop_duplicates(inplace=True)\n",
    "df.reset_index(drop=True, inplace=True)\n",
    "# 4 Проверяем результаты\n",
    "shape_table_update = df.shape\n",
    "print(f\"Повторный размер таблицы: {shape_table_update}\")\n",
    "# 5 Сравнение\n",
    "if shape_table == shape_table_update:\n",
    "    print(f\"Размер таблицы не изменился, текущий размер: {shape_table_update}\")\n",
    "# 6 Получение уникальных значений\n",
    "df['genre_name'].unique()\n",
    "# 7 Замена\n",
    "df['genre_name'] = df['genre_name'].replace('электроника', 'electronic')\n",
    "# 8 Проверка\n",
    "k = 0\n",
    "for i in df['genre_name']:\n",
    "    if i == 'электроника':\n",
    "        k+=1\n",
    "genre_final_count = k\n",
    "print(f\"Количетсов слов 'электроника' в столбце genre_name: {genre_final_count}\")\n",
    "result = df.loc[(df['genre_name'] == \"rock\") & (df['day'] == \"Monday\")]\n",
    "print(result.shape)\n",
    "result.head(10)\n",
    "print(df.columns)\n"
   ]
  },
  {
   "cell_type": "markdown",
   "metadata": {
    "id": "SHP1rxiwJZOS"
   },
   "source": [
    "# Этап 1. Получение данных\n",
    "\n",
    "Изучим данные, предоставленные сервисом для проекта.\n",
    "\n",
    "Прочитайте файл music_project.csv и сохраните его в переменной df.\n",
    "\n",
    "Получите  первых 10 строк таблицы, а также общую информацию о данных таблицы df."
   ]
  },
  {
   "cell_type": "code",
   "execution_count": 2,
   "metadata": {
    "colab": {
     "base_uri": "https://localhost:8080/"
    },
    "executionInfo": {
     "elapsed": 482,
     "status": "ok",
     "timestamp": 1727512434841,
     "user": {
      "displayName": "Наиль Нурмухамедов",
      "userId": "09916009234760301992"
     },
     "user_tz": -240
    },
    "id": "c1BV30d1JZOT",
    "outputId": "7e150cc1-879c-4f33-dab1-c448758db2d1"
   },
   "outputs": [
    {
     "name": "stdout",
     "output_type": "stream",
     "text": [
      "    user_id                   track_name       artist_name genre_name  \\\n",
      "0  FFB692EC            Kamigata To Boots  The Mass Missile       rock   \n",
      "1  55204538  Delayed Because of Accident  Andreas Rönnberg       rock   \n",
      "2    20EC38            Funiculì funiculà       Mario Lanza        pop   \n",
      "3  A3DD03C9        Dragons in the Sunset        Fire + Ice       folk   \n",
      "4  E2DC1FAE                  Soul People        Space Echo      dance   \n",
      "5  842029A1                    Преданная         IMPERVTOR     rusrap   \n",
      "6  4CB90AA5                         True      Roman Messer      dance   \n",
      "7  F03E1C1F             Feeling This Way   Polina Griffith      dance   \n",
      "8  8FA1D3BE     И вновь продолжается бой               NaN     ruspop   \n",
      "9  E772D5C0                    Pessimist               NaN      dance   \n",
      "\n",
      "               city      time        day  \n",
      "0  Saint-Petersburg  20:28:33  Wednesday  \n",
      "1            Moscow  14:07:09     Friday  \n",
      "2  Saint-Petersburg  20:58:07  Wednesday  \n",
      "3  Saint-Petersburg  08:37:09     Monday  \n",
      "4            Moscow  08:34:34     Monday  \n",
      "5  Saint-Petersburg  13:09:41     Friday  \n",
      "6            Moscow  13:00:07  Wednesday  \n",
      "7            Moscow  20:47:49  Wednesday  \n",
      "8            Moscow  09:17:40     Friday  \n",
      "9  Saint-Petersburg  21:20:49  Wednesday  \n",
      "\n",
      "Index(['user_id', 'track_name', 'artist_name', 'genre_name', 'city', 'time',\n",
      "       'day'],\n",
      "      dtype='object')\n"
     ]
    }
   ],
   "source": [
    "import pandas as pd\n",
    "\n",
    "df = pd.read_csv(\"./yandex_music.csv\")\n",
    "column_names = df.columns.tolist()\n",
    "new_names = ['user_id','track_name','artist_name','genre_name','city', 'time', 'day']\n",
    "df = df.set_axis(new_names, axis = 'columns')\n",
    "print(df.head(10))\n",
    "print(f'\\n{df.columns}')"
   ]
  },
  {
   "cell_type": "markdown",
   "metadata": {
    "id": "U6CzuARpJZOU"
   },
   "source": [
    "Рассмотрим полученную информацию подробнее.\n",
    "Всего в таблице 7 столбцов, тип данных у каждого столбца - строка.\n",
    "Подробно разберём, какие в df столбцы и какую информацию они содержат:\n",
    "•\tuserID — идентификатор пользователя;\n",
    "•\tTrack — название трека;\n",
    "•\tartist — имя исполнителя;\n",
    "•\tgenre — название жанра;\n",
    "•\tCity — город, в котором происходило прослушивание;\n",
    "•\ttime — время, в которое пользователь слушал трек;\n",
    "•\tDay — день недели.\n",
    "Количество значений в столбцах различается. Это говорит о том, что в данных есть пропущенные значения.\n"
   ]
  },
  {
   "cell_type": "markdown",
   "metadata": {
    "id": "i4XhFmTMJZOV"
   },
   "source": [
    "## Выводы:\n",
    "\n",
    "Каждая строка таблицы содержит информацию о композициях определённого жанра в определённом исполнении, которые пользователи слушали в одном из городов в определённое время и день недели. Две проблемы, которые нужно решать: пропуски и некачественные названия столбцов. Для проверки рабочих гипотез особенно ценны столбцы (*вставьте сюда названия столбцов, наиболее существенных, на ва взгляд*. Данные из столбца *название столбца*  позволят узнать самые популярные жанры."
   ]
  },
  {
   "cell_type": "markdown",
   "metadata": {
    "id": "pVxp90fXJZOV"
   },
   "source": [
    "# Этап 2. Предобработка данных\n",
    "\n",
    "Исключим пропуски, переименуем столбцы, а также проверим данные на наличие дубликатов.\n",
    "\n",
    "Получаем перечень названий столбцов. Какая наблюдается проблема — кроме тех, что уже были названы ранее?\n"
   ]
  },
  {
   "cell_type": "code",
   "execution_count": 19,
   "metadata": {
    "colab": {
     "base_uri": "https://localhost:8080/"
    },
    "executionInfo": {
     "elapsed": 496,
     "status": "ok",
     "timestamp": 1727512462280,
     "user": {
      "displayName": "Наиль Нурмухамедов",
      "userId": "09916009234760301992"
     },
     "user_tz": -240
    },
    "id": "x2XWuZWEJZOW",
    "outputId": "21fb034d-5c31-4e6d-a3be-1190b8be13d3"
   },
   "outputs": [
    {
     "name": "stdout",
     "output_type": "stream",
     "text": [
      "Список столбцов: Index(['user_id', 'track_name', 'artist_name', 'genre_name',\n",
      "       'total_play_seconds', 'time', 'day'],\n",
      "      dtype='object')\n"
     ]
    }
   ],
   "source": [
    "new_names = ['user_id','track_name','artist_name','genre_name','total_play_seconds', 'time', 'day']\n",
    "df = df.set_axis(new_names, axis = 'columns')\n",
    "print(f\"Список столбцов: {df.columns}\")"
   ]
  },
  {
   "cell_type": "markdown",
   "metadata": {
    "id": "mTvFbSlZJZOW"
   },
   "source": [
    "В названиях столбцов есть пробелы, которые могут затруднять доступ к данным.\n",
    "\n",
    "Переименуем столбцы для удобства дальнейшей работы. Проверим результат.\n"
   ]
  },
  {
   "cell_type": "code",
   "execution_count": 35,
   "metadata": {
    "colab": {
     "base_uri": "https://localhost:8080/"
    },
    "executionInfo": {
     "elapsed": 489,
     "status": "ok",
     "timestamp": 1727512487355,
     "user": {
      "displayName": "Наиль Нурмухамедов",
      "userId": "09916009234760301992"
     },
     "user_tz": -240
    },
    "id": "9BLMatPWJZOX",
    "outputId": "6e04880e-b6bb-4286-eb56-98624c51eed4"
   },
   "outputs": [
    {
     "name": "stdout",
     "output_type": "stream",
     "text": [
      "Список столбцов: Index(['user_id', 'track_name', 'artist_name', 'genre_name',\n",
      "       'total_play_seconds', 'time', 'day'],\n",
      "      dtype='object')\n"
     ]
    }
   ],
   "source": [
    "print(f\"Список столбцов: {df.columns}\")"
   ]
  },
  {
   "cell_type": "markdown",
   "metadata": {
    "id": "2RUXRDPgJZOX"
   },
   "source": [
    "Проверим данные на наличие пропусков вызовом набора методов для суммирования пропущенных значений."
   ]
  },
  {
   "cell_type": "code",
   "execution_count": null,
   "metadata": {
    "colab": {
     "base_uri": "https://localhost:8080/"
    },
    "executionInfo": {
     "elapsed": 481,
     "status": "ok",
     "timestamp": 1727512513923,
     "user": {
      "displayName": "Наиль Нурмухамедов",
      "userId": "09916009234760301992"
     },
     "user_tz": -240
    },
    "id": "VjCANdKNJZOX",
    "outputId": "edbc332b-f860-4c88-8b13-2b3a12efe75a"
   },
   "outputs": [
    {
     "name": "stdout",
     "output_type": "stream",
     "text": [
      "user_id                  0\n",
      "track_name               0\n",
      "artist_name              0\n",
      "genre_name            1127\n",
      "total_play_seconds       0\n",
      "time                     0\n",
      "day                      0\n",
      "dtype: int64\n"
     ]
    }
   ],
   "source": [
    "print(df.isnull().sum())"
   ]
  },
  {
   "cell_type": "markdown",
   "metadata": {
    "id": "cq_2csmZJZOY"
   },
   "source": [
    "Пустые значения свидетельствуют, что для некоторых треков доступна не вся информация. Причины могут быть разные: скажем, не назван конкретный исполнитель народной песни. Хуже, если проблемы с записью данных. Каждый отдельный случай необходимо разобрать и выявить причину.\n",
    "\n",
    "Заменяем пропущенные значения в столбцах с названием трека и исполнителя на строку 'unknown'. После этой операции нужно убедиться, что таблица больше не содержит пропусков.\n"
   ]
  },
  {
   "cell_type": "code",
   "execution_count": null,
   "metadata": {
    "executionInfo": {
     "elapsed": 485,
     "status": "ok",
     "timestamp": 1727512538847,
     "user": {
      "displayName": "Наиль Нурмухамедов",
      "userId": "09916009234760301992"
     },
     "user_tz": -240
    },
    "id": "GoSJtKxSJZOY"
   },
   "outputs": [],
   "source": [
    "df['track_name'] = df['track_name'].fillna('unknown')\n",
    "# Замена пропущенных значений\n",
    "df['artist_name'] = df['artist_name'].fillna('unknown')"
   ]
  },
  {
   "cell_type": "code",
   "execution_count": null,
   "metadata": {
    "colab": {
     "base_uri": "https://localhost:8080/"
    },
    "executionInfo": {
     "elapsed": 672,
     "status": "ok",
     "timestamp": 1727512554961,
     "user": {
      "displayName": "Наиль Нурмухамедов",
      "userId": "09916009234760301992"
     },
     "user_tz": -240
    },
    "id": "mEvxn4sOJZOY",
    "outputId": "0231bca9-6e19-441e-dbad-86d812f9cd15"
   },
   "outputs": [
    {
     "name": "stdout",
     "output_type": "stream",
     "text": [
      "user_id                  0\n",
      "track_name               0\n",
      "artist_name              0\n",
      "genre_name            1127\n",
      "total_play_seconds       0\n",
      "time                     0\n",
      "day                      0\n",
      "dtype: int64\n"
     ]
    }
   ],
   "source": [
    "print(df.isnull().sum())"
   ]
  },
  {
   "cell_type": "markdown",
   "metadata": {
    "id": "gMGq_DAlJZOY"
   },
   "source": [
    "Удаляем в столбце с жанрами пустые значения; убеждаемся, что их больше не осталось."
   ]
  },
  {
   "cell_type": "code",
   "execution_count": null,
   "metadata": {
    "colab": {
     "base_uri": "https://localhost:8080/"
    },
    "executionInfo": {
     "elapsed": 491,
     "status": "ok",
     "timestamp": 1727512566029,
     "user": {
      "displayName": "Наиль Нурмухамедов",
      "userId": "09916009234760301992"
     },
     "user_tz": -240
    },
    "id": "scAQvphlJZOY",
    "outputId": "72e4aab5-6151-43a4-d8be-32f5dc98f247"
   },
   "outputs": [
    {
     "name": "stdout",
     "output_type": "stream",
     "text": [
      "<class 'pandas.core.frame.DataFrame'>\n",
      "RangeIndex: 61253 entries, 0 to 61252\n",
      "Data columns (total 7 columns):\n",
      " #   Column              Non-Null Count  Dtype \n",
      "---  ------              --------------  ----- \n",
      " 0   user_id             61253 non-null  object\n",
      " 1   track_name          61253 non-null  object\n",
      " 2   artist_name         61253 non-null  object\n",
      " 3   genre_name          60126 non-null  object\n",
      " 4   total_play_seconds  61253 non-null  object\n",
      " 5   time                61253 non-null  object\n",
      " 6   day                 61253 non-null  object\n",
      "dtypes: object(7)\n",
      "memory usage: 3.3+ MB\n",
      "Повторная статистика таблицы: None\n"
     ]
    }
   ],
   "source": [
    "df.dropna(subset=['genre_name'])\n",
    "\n",
    "print(f\"Повторная статистика таблицы: {df.info()}\")"
   ]
  },
  {
   "cell_type": "markdown",
   "metadata": {
    "id": "-CH1LuFGJZOZ"
   },
   "source": [
    "Необходимо установить наличие дубликатов. Если найдутся, удаляем, и проверяем, все ли удалились."
   ]
  },
  {
   "cell_type": "code",
   "execution_count": 50,
   "metadata": {
    "colab": {
     "base_uri": "https://localhost:8080/"
    },
    "executionInfo": {
     "elapsed": 515,
     "status": "ok",
     "timestamp": 1727512577842,
     "user": {
      "displayName": "Наиль Нурмухамедов",
      "userId": "09916009234760301992"
     },
     "user_tz": -240
    },
    "id": "ZyLp5RsLJZOZ",
    "outputId": "db7eb32e-6bc1-4baf-c8a4-a4fe6b016623"
   },
   "outputs": [
    {
     "name": "stdout",
     "output_type": "stream",
     "text": [
      "Кол-во дубликатов: 0\n"
     ]
    }
   ],
   "source": [
    "print(f\"Кол-во дубликатов: {df.duplicated().sum()}\")\n",
    "\n",
    "df.drop_duplicates(inplace=True)\n",
    "df.reset_index(drop=True, inplace=True)\n",
    "\n",
    "shape_table_update = df.shape"
   ]
  },
  {
   "cell_type": "markdown",
   "metadata": {
    "id": "CDQQU8M-JZOZ"
   },
   "source": [
    "Дубликаты могли появиться вследствие сбоя в записи данных. Стоит обратить внимание и разобраться с причинами появления такого «информационного мусора».\n",
    "\n",
    "Сохраняем список уникальных значений столбца с жанрами в переменной genres_list.\n",
    "\n",
    "Объявим функцию find_genre() для поиска неявных дубликатов в столбце с жанрами. Например, когда название одного и того же жанра написано разными словами.\n"
   ]
  },
  {
   "cell_type": "code",
   "execution_count": null,
   "metadata": {
    "colab": {
     "base_uri": "https://localhost:8080/"
    },
    "executionInfo": {
     "elapsed": 505,
     "status": "ok",
     "timestamp": 1727512587578,
     "user": {
      "displayName": "Наиль Нурмухамедов",
      "userId": "09916009234760301992"
     },
     "user_tz": -240
    },
    "id": "W6BiOKleJZOZ",
    "outputId": "02a8b8e9-2376-474b-ce98-a0ce289726ea"
   },
   "outputs": [
    {
     "data": {
      "text/plain": [
       "['rock',\n",
       " 'pop',\n",
       " 'folk',\n",
       " 'dance',\n",
       " 'rusrap',\n",
       " 'ruspop',\n",
       " 'world',\n",
       " 'electronic',\n",
       " nan,\n",
       " 'alternative',\n",
       " 'children',\n",
       " 'rnb',\n",
       " 'hip',\n",
       " 'jazz',\n",
       " 'postrock',\n",
       " 'latin',\n",
       " 'classical',\n",
       " 'metal',\n",
       " 'reggae',\n",
       " 'tatar',\n",
       " 'blues',\n",
       " 'instrumental',\n",
       " 'rusrock',\n",
       " 'dnb',\n",
       " 'türk',\n",
       " 'post',\n",
       " 'country',\n",
       " 'psychedelic',\n",
       " 'conjazz',\n",
       " 'indie',\n",
       " 'posthardcore',\n",
       " 'local',\n",
       " 'avantgarde',\n",
       " 'punk',\n",
       " 'videogame',\n",
       " 'techno',\n",
       " 'house',\n",
       " 'christmas',\n",
       " 'melodic',\n",
       " 'caucasian',\n",
       " 'reggaeton',\n",
       " 'soundtrack',\n",
       " 'singer',\n",
       " 'ska',\n",
       " 'shanson',\n",
       " 'ambient',\n",
       " 'film',\n",
       " 'western',\n",
       " 'rap',\n",
       " 'beats',\n",
       " \"hard'n'heavy\",\n",
       " 'progmetal',\n",
       " 'minimal',\n",
       " 'contemporary',\n",
       " 'new',\n",
       " 'soul',\n",
       " 'holiday',\n",
       " 'german',\n",
       " 'tropical',\n",
       " 'fairytail',\n",
       " 'spiritual',\n",
       " 'urban',\n",
       " 'gospel',\n",
       " 'nujazz',\n",
       " 'folkmetal',\n",
       " 'trance',\n",
       " 'miscellaneous',\n",
       " 'anime',\n",
       " 'hardcore',\n",
       " 'progressive',\n",
       " 'chanson',\n",
       " 'numetal',\n",
       " 'vocal',\n",
       " 'estrada',\n",
       " 'russian',\n",
       " 'classicmetal',\n",
       " 'dubstep',\n",
       " 'club',\n",
       " 'deep',\n",
       " 'southern',\n",
       " 'black',\n",
       " 'folkrock',\n",
       " 'fitness',\n",
       " 'french',\n",
       " 'disco',\n",
       " 'religious',\n",
       " 'hiphop',\n",
       " 'drum',\n",
       " 'extrememetal',\n",
       " 'türkçe',\n",
       " 'experimental',\n",
       " 'easy',\n",
       " 'metalcore',\n",
       " 'modern',\n",
       " 'argentinetango',\n",
       " 'old',\n",
       " 'breaks',\n",
       " 'eurofolk',\n",
       " 'stonerrock',\n",
       " 'industrial',\n",
       " 'funk',\n",
       " 'jpop',\n",
       " 'middle',\n",
       " 'variété',\n",
       " 'other',\n",
       " 'adult',\n",
       " 'christian',\n",
       " 'gothic',\n",
       " 'international',\n",
       " 'muslim',\n",
       " 'relax',\n",
       " 'schlager',\n",
       " 'caribbean',\n",
       " 'ukrrock',\n",
       " 'nu',\n",
       " 'breakbeat',\n",
       " 'comedy',\n",
       " 'chill',\n",
       " 'newage',\n",
       " 'specialty',\n",
       " 'uzbek',\n",
       " 'k-pop',\n",
       " 'balkan',\n",
       " 'chinese',\n",
       " 'meditative',\n",
       " 'dub',\n",
       " 'power',\n",
       " 'death',\n",
       " 'grime',\n",
       " 'arabesk',\n",
       " 'romance',\n",
       " 'flamenco',\n",
       " 'leftfield',\n",
       " 'european',\n",
       " 'tech',\n",
       " 'newwave',\n",
       " 'dancehall',\n",
       " 'mpb',\n",
       " 'piano',\n",
       " 'top',\n",
       " 'bigroom',\n",
       " 'opera',\n",
       " 'celtic',\n",
       " 'tradjazz',\n",
       " 'acoustic',\n",
       " 'epicmetal',\n",
       " 'hip-hop',\n",
       " 'historisch',\n",
       " 'downbeat',\n",
       " 'downtempo',\n",
       " 'africa',\n",
       " 'audiobook',\n",
       " 'jewish',\n",
       " 'sängerportrait',\n",
       " 'deutschrock',\n",
       " 'eastern',\n",
       " 'action',\n",
       " 'future',\n",
       " 'electropop',\n",
       " 'folklore',\n",
       " 'bollywood',\n",
       " 'marschmusik',\n",
       " 'rnr',\n",
       " 'karaoke',\n",
       " 'indian',\n",
       " 'rancheras',\n",
       " 'электроника',\n",
       " 'afrikaans',\n",
       " 'tango',\n",
       " 'rhythm',\n",
       " 'sound',\n",
       " 'deutschspr',\n",
       " 'trip',\n",
       " 'lovers',\n",
       " 'choral',\n",
       " 'dancepop',\n",
       " 'podcasts',\n",
       " 'retro',\n",
       " 'smooth',\n",
       " 'mexican',\n",
       " 'brazilian',\n",
       " 'ïîï',\n",
       " 'mood',\n",
       " 'surf',\n",
       " 'author',\n",
       " 'gangsta',\n",
       " 'triphop',\n",
       " 'inspirational',\n",
       " 'idm',\n",
       " 'ethnic',\n",
       " 'bluegrass',\n",
       " 'broadway',\n",
       " 'animated',\n",
       " 'americana',\n",
       " 'karadeniz',\n",
       " 'rockabilly',\n",
       " 'colombian',\n",
       " 'self',\n",
       " 'hop',\n",
       " 'synthrock',\n",
       " 'sertanejo',\n",
       " 'japanese',\n",
       " 'canzone',\n",
       " 'swing',\n",
       " 'lounge',\n",
       " 'sport',\n",
       " 'korean',\n",
       " 'ragga',\n",
       " 'traditional',\n",
       " 'gitarre',\n",
       " 'frankreich',\n",
       " 'alternativepunk',\n",
       " 'emo',\n",
       " 'laiko',\n",
       " 'cantopop',\n",
       " 'glitch',\n",
       " 'documentary',\n",
       " 'rockalternative',\n",
       " 'thrash',\n",
       " 'hymn',\n",
       " 'oceania',\n",
       " 'rockother',\n",
       " 'popeurodance',\n",
       " 'dark',\n",
       " 'vi',\n",
       " 'grunge',\n",
       " 'hardstyle',\n",
       " 'samba',\n",
       " 'garage',\n",
       " 'soft',\n",
       " 'art',\n",
       " 'folktronica',\n",
       " 'entehno',\n",
       " 'mediterranean',\n",
       " 'chamber',\n",
       " 'cuban',\n",
       " 'taraftar',\n",
       " 'rockindie',\n",
       " 'gypsy',\n",
       " 'hardtechno',\n",
       " 'shoegazing',\n",
       " 'skarock',\n",
       " 'bossa',\n",
       " 'salsa',\n",
       " 'latino',\n",
       " 'worldbeat',\n",
       " 'malaysian',\n",
       " 'baile',\n",
       " 'ghazal',\n",
       " 'loungeelectronic',\n",
       " 'arabic',\n",
       " 'popelectronic',\n",
       " 'acid',\n",
       " 'kayokyoku',\n",
       " 'neoklassik',\n",
       " 'tribal',\n",
       " 'tanzorchester',\n",
       " 'native',\n",
       " 'independent',\n",
       " 'cantautori',\n",
       " 'handsup',\n",
       " 'poprussian',\n",
       " 'punjabi',\n",
       " 'synthpop',\n",
       " 'rave',\n",
       " 'französisch',\n",
       " 'quebecois',\n",
       " 'speech',\n",
       " 'soulful',\n",
       " 'teen',\n",
       " 'jam',\n",
       " 'ram',\n",
       " 'horror',\n",
       " 'scenic',\n",
       " 'orchestral',\n",
       " 'neue',\n",
       " 'roots',\n",
       " 'slow',\n",
       " 'jungle',\n",
       " 'indipop',\n",
       " 'axé',\n",
       " 'fado',\n",
       " 'showtunes',\n",
       " 'arena',\n",
       " 'irish',\n",
       " 'mandopop',\n",
       " 'forró',\n",
       " 'popdance',\n",
       " 'dirty',\n",
       " 'regional']"
      ]
     },
     "execution_count": 51,
     "metadata": {},
     "output_type": "execute_result"
    }
   ],
   "source": [
    "genres_list = df['genre_name'].unique().tolist()\n",
    "genres_list"
   ]
  },
  {
   "cell_type": "code",
   "execution_count": 60,
   "metadata": {
    "colab": {
     "base_uri": "https://localhost:8080/"
    },
    "executionInfo": {
     "elapsed": 18745,
     "status": "ok",
     "timestamp": 1727512615505,
     "user": {
      "displayName": "Наиль Нурмухамедов",
      "userId": "09916009234760301992"
     },
     "user_tz": -240
    },
    "id": "d-_lAgdeJZOZ",
    "outputId": "45f12806-baef-4746-bd32-99525415fb4d"
   },
   "outputs": [],
   "source": [
    "def find_genre(genre):\n",
    "    k = 0\n",
    "    for i in genres_list:\n",
    "        if i == genre:\n",
    "            k+=1\n",
    "    print(f\"Счётсчик: {k}\")\n",
    "genre = input(\"Введите название жанра: \")"
   ]
  },
  {
   "cell_type": "markdown",
   "metadata": {
    "id": "ZeQ4nl4mJZOa"
   },
   "source": [
    "Вызов функции find_genre() для поиска различных вариантов названия жанра хип-хоп в таблице.\n",
    "\n",
    "Правильное название — hiphop. Поищем другие варианты:\n",
    "\n",
    "•\thip\n",
    "\n",
    "•\thop\n",
    "\n",
    "•\thip-hop\n"
   ]
  },
  {
   "cell_type": "code",
   "execution_count": null,
   "metadata": {
    "colab": {
     "base_uri": "https://localhost:8080/"
    },
    "executionInfo": {
     "elapsed": 471,
     "status": "ok",
     "timestamp": 1727512627725,
     "user": {
      "displayName": "Наиль Нурмухамедов",
      "userId": "09916009234760301992"
     },
     "user_tz": -240
    },
    "id": "Ebq3HCycJZOa",
    "outputId": "3dce974b-660d-4973-daa5-9f2f03056972"
   },
   "outputs": [
    {
     "name": "stdout",
     "output_type": "stream",
     "text": [
      "Счётсчик: 1\n"
     ]
    }
   ],
   "source": [
    "def find_genre(genre=\"hip\"):\n",
    "    k = 0\n",
    "    for i in genres_list:\n",
    "        if i == genre:\n",
    "            k+=1\n",
    "    print(f\"Счётсчик: {k}\")\n",
    "find_genre()"
   ]
  },
  {
   "cell_type": "code",
   "execution_count": null,
   "metadata": {
    "colab": {
     "base_uri": "https://localhost:8080/"
    },
    "executionInfo": {
     "elapsed": 476,
     "status": "ok",
     "timestamp": 1727512636112,
     "user": {
      "displayName": "Наиль Нурмухамедов",
      "userId": "09916009234760301992"
     },
     "user_tz": -240
    },
    "id": "4E3y0J44JZOa",
    "outputId": "55e7233f-d870-4194-cf8b-80756d06a63e"
   },
   "outputs": [
    {
     "name": "stdout",
     "output_type": "stream",
     "text": [
      "Счётсчик: 1\n"
     ]
    }
   ],
   "source": [
    "def find_genre(genre=\"hop\"):\n",
    "    k = 0\n",
    "    for i in genres_list:\n",
    "        if i == genre:\n",
    "            k+=1\n",
    "    print(f\"Счётсчик: {k}\")\n",
    "find_genre()"
   ]
  },
  {
   "cell_type": "code",
   "execution_count": null,
   "metadata": {
    "colab": {
     "base_uri": "https://localhost:8080/"
    },
    "executionInfo": {
     "elapsed": 868,
     "status": "ok",
     "timestamp": 1727512645327,
     "user": {
      "displayName": "Наиль Нурмухамедов",
      "userId": "09916009234760301992"
     },
     "user_tz": -240
    },
    "id": "yG6HW_5XJZOa",
    "outputId": "02611680-99f2-4780-8b5b-1137624843e3"
   },
   "outputs": [
    {
     "name": "stdout",
     "output_type": "stream",
     "text": [
      "Счётсчик: 1\n"
     ]
    }
   ],
   "source": [
    "def find_genre(genre=\"hip-hop\"):\n",
    "    k = 0\n",
    "    for i in genres_list:\n",
    "        if i == genre:\n",
    "            k+=1\n",
    "    print(f\"Счётсчик: {k}\")\n",
    "find_genre()"
   ]
  },
  {
   "cell_type": "markdown",
   "metadata": {
    "id": "4DTS2C7GJZOa"
   },
   "source": [
    "Объявим функцию find_hip_hop(), которая заменяет неправильное название этого жанра в столбце 'genre_name' на 'hiphop' и проверяет успешность выполнения замены.\n",
    "\n",
    "Так исправляем все варианты написания, которые выявила проверка.\n"
   ]
  },
  {
   "cell_type": "code",
   "execution_count": 68,
   "metadata": {
    "colab": {
     "base_uri": "https://localhost:8080/"
    },
    "executionInfo": {
     "elapsed": 459,
     "status": "ok",
     "timestamp": 1727512653362,
     "user": {
      "displayName": "Наиль Нурмухамедов",
      "userId": "09916009234760301992"
     },
     "user_tz": -240
    },
    "id": "TOXT4mqNJZOa",
    "outputId": "c580842b-ae8c-4f49-ec9c-e3771bd0d65b"
   },
   "outputs": [
    {
     "name": "stdout",
     "output_type": "stream",
     "text": [
      "0              rock\n",
      "1              rock\n",
      "2               pop\n",
      "3              folk\n",
      "4             dance\n",
      "            ...    \n",
      "61248           rnb\n",
      "61249           hip\n",
      "61250    industrial\n",
      "61251          rock\n",
      "61252       country\n",
      "Name: genre_name, Length: 61253, dtype: object\n"
     ]
    },
    {
     "data": {
      "text/plain": [
       "79"
      ]
     },
     "execution_count": 68,
     "metadata": {},
     "output_type": "execute_result"
    }
   ],
   "source": [
    "print(df[\"genre_name\"])\n",
    "def find_hip_hop(df, wrong_name):\n",
    "    df['genre_name'] = df['genre_name'].replace(wrong_name, 'hiphop')\n",
    "    return df['genre_name'].value_counts()['hiphop']\n",
    "find_hip_hop(df,\"privet\")"
   ]
  },
  {
   "cell_type": "code",
   "execution_count": null,
   "metadata": {
    "colab": {
     "base_uri": "https://localhost:8080/"
    },
    "executionInfo": {
     "elapsed": 459,
     "status": "ok",
     "timestamp": 1727512662896,
     "user": {
      "displayName": "Наиль Нурмухамедов",
      "userId": "09916009234760301992"
     },
     "user_tz": -240
    },
    "id": "mZ_EYz2AJZOb",
    "outputId": "467a62be-242e-451c-e6d4-48bf39e9acb9"
   },
   "outputs": [
    {
     "name": "stdout",
     "output_type": "stream",
     "text": [
      "0              rock\n",
      "1              rock\n",
      "2               pop\n",
      "3              folk\n",
      "4             dance\n",
      "            ...    \n",
      "61248           rnb\n",
      "61249           hip\n",
      "61250    industrial\n",
      "61251          rock\n",
      "61252       country\n",
      "Name: genre_name, Length: 61253, dtype: object\n"
     ]
    },
    {
     "data": {
      "text/plain": [
       "79"
      ]
     },
     "execution_count": 69,
     "metadata": {},
     "output_type": "execute_result"
    }
   ],
   "source": [
    "print(df[\"genre_name\"])\n",
    "def find_hip_hop(df, wrong_name):\n",
    "    df['genre_name'] = df['genre_name'].replace(wrong_name, 'hiphop')\n",
    "    return df['genre_name'].value_counts()['hiphop']\n",
    "find_hip_hop(df,\"privet\")"
   ]
  },
  {
   "cell_type": "markdown",
   "metadata": {
    "id": "r6oPIsapJZOb"
   },
   "source": [
    "Получаем общую информацию о данных. Убеждаемся, что чистка выполнена успешно."
   ]
  },
  {
   "cell_type": "code",
   "execution_count": 74,
   "metadata": {
    "colab": {
     "base_uri": "https://localhost:8080/",
     "height": 424
    },
    "executionInfo": {
     "elapsed": 2540,
     "status": "ok",
     "timestamp": 1727512672137,
     "user": {
      "displayName": "Наиль Нурмухамедов",
      "userId": "09916009234760301992"
     },
     "user_tz": -240
    },
    "id": "CwpLrvE3JZOb",
    "outputId": "96947173-fecc-41c9-f941-a6098ca9700c"
   },
   "outputs": [
    {
     "data": {
      "text/html": [
       "<div>\n",
       "<style scoped>\n",
       "    .dataframe tbody tr th:only-of-type {\n",
       "        vertical-align: middle;\n",
       "    }\n",
       "\n",
       "    .dataframe tbody tr th {\n",
       "        vertical-align: top;\n",
       "    }\n",
       "\n",
       "    .dataframe thead th {\n",
       "        text-align: right;\n",
       "    }\n",
       "</style>\n",
       "<table border=\"1\" class=\"dataframe\">\n",
       "  <thead>\n",
       "    <tr style=\"text-align: right;\">\n",
       "      <th></th>\n",
       "      <th>user_id</th>\n",
       "      <th>track_name</th>\n",
       "      <th>artist_name</th>\n",
       "      <th>genre_name</th>\n",
       "      <th>total_play_seconds</th>\n",
       "      <th>time</th>\n",
       "      <th>day</th>\n",
       "    </tr>\n",
       "  </thead>\n",
       "  <tbody>\n",
       "    <tr>\n",
       "      <th>0</th>\n",
       "      <td>FFB692EC</td>\n",
       "      <td>Kamigata To Boots</td>\n",
       "      <td>The Mass Missile</td>\n",
       "      <td>rock</td>\n",
       "      <td>Saint-Petersburg</td>\n",
       "      <td>20:28:33</td>\n",
       "      <td>Wednesday</td>\n",
       "    </tr>\n",
       "    <tr>\n",
       "      <th>1</th>\n",
       "      <td>55204538</td>\n",
       "      <td>Delayed Because of Accident</td>\n",
       "      <td>Andreas Rönnberg</td>\n",
       "      <td>rock</td>\n",
       "      <td>Moscow</td>\n",
       "      <td>14:07:09</td>\n",
       "      <td>Friday</td>\n",
       "    </tr>\n",
       "    <tr>\n",
       "      <th>2</th>\n",
       "      <td>20EC38</td>\n",
       "      <td>Funiculì funiculà</td>\n",
       "      <td>Mario Lanza</td>\n",
       "      <td>pop</td>\n",
       "      <td>Saint-Petersburg</td>\n",
       "      <td>20:58:07</td>\n",
       "      <td>Wednesday</td>\n",
       "    </tr>\n",
       "    <tr>\n",
       "      <th>3</th>\n",
       "      <td>A3DD03C9</td>\n",
       "      <td>Dragons in the Sunset</td>\n",
       "      <td>Fire + Ice</td>\n",
       "      <td>folk</td>\n",
       "      <td>Saint-Petersburg</td>\n",
       "      <td>08:37:09</td>\n",
       "      <td>Monday</td>\n",
       "    </tr>\n",
       "    <tr>\n",
       "      <th>4</th>\n",
       "      <td>E2DC1FAE</td>\n",
       "      <td>Soul People</td>\n",
       "      <td>Space Echo</td>\n",
       "      <td>dance</td>\n",
       "      <td>Moscow</td>\n",
       "      <td>08:34:34</td>\n",
       "      <td>Monday</td>\n",
       "    </tr>\n",
       "    <tr>\n",
       "      <th>...</th>\n",
       "      <td>...</td>\n",
       "      <td>...</td>\n",
       "      <td>...</td>\n",
       "      <td>...</td>\n",
       "      <td>...</td>\n",
       "      <td>...</td>\n",
       "      <td>...</td>\n",
       "    </tr>\n",
       "    <tr>\n",
       "      <th>61248</th>\n",
       "      <td>729CBB09</td>\n",
       "      <td>My Name</td>\n",
       "      <td>McLean</td>\n",
       "      <td>rnb</td>\n",
       "      <td>Moscow</td>\n",
       "      <td>13:32:28</td>\n",
       "      <td>Wednesday</td>\n",
       "    </tr>\n",
       "    <tr>\n",
       "      <th>61249</th>\n",
       "      <td>D08D4A55</td>\n",
       "      <td>Maybe One Day (feat. Black Spade)</td>\n",
       "      <td>Blu &amp; Exile</td>\n",
       "      <td>hip</td>\n",
       "      <td>Saint-Petersburg</td>\n",
       "      <td>10:00:00</td>\n",
       "      <td>Monday</td>\n",
       "    </tr>\n",
       "    <tr>\n",
       "      <th>61250</th>\n",
       "      <td>C5E3A0D5</td>\n",
       "      <td>Jalopiina</td>\n",
       "      <td>unknown</td>\n",
       "      <td>industrial</td>\n",
       "      <td>Moscow</td>\n",
       "      <td>20:09:26</td>\n",
       "      <td>Friday</td>\n",
       "    </tr>\n",
       "    <tr>\n",
       "      <th>61251</th>\n",
       "      <td>321D0506</td>\n",
       "      <td>Freight Train</td>\n",
       "      <td>Chas McDevitt</td>\n",
       "      <td>rock</td>\n",
       "      <td>Moscow</td>\n",
       "      <td>21:43:59</td>\n",
       "      <td>Friday</td>\n",
       "    </tr>\n",
       "    <tr>\n",
       "      <th>61252</th>\n",
       "      <td>3A64EF84</td>\n",
       "      <td>Tell Me Sweet Little Lies</td>\n",
       "      <td>Monica Lopez</td>\n",
       "      <td>country</td>\n",
       "      <td>Moscow</td>\n",
       "      <td>21:59:46</td>\n",
       "      <td>Friday</td>\n",
       "    </tr>\n",
       "  </tbody>\n",
       "</table>\n",
       "<p>61253 rows × 7 columns</p>\n",
       "</div>"
      ],
      "text/plain": [
       "        user_id                         track_name       artist_name  \\\n",
       "0      FFB692EC                  Kamigata To Boots  The Mass Missile   \n",
       "1      55204538        Delayed Because of Accident  Andreas Rönnberg   \n",
       "2        20EC38                  Funiculì funiculà       Mario Lanza   \n",
       "3      A3DD03C9              Dragons in the Sunset        Fire + Ice   \n",
       "4      E2DC1FAE                        Soul People        Space Echo   \n",
       "...         ...                                ...               ...   \n",
       "61248  729CBB09                            My Name            McLean   \n",
       "61249  D08D4A55  Maybe One Day (feat. Black Spade)       Blu & Exile   \n",
       "61250  C5E3A0D5                          Jalopiina           unknown   \n",
       "61251  321D0506                      Freight Train     Chas McDevitt   \n",
       "61252  3A64EF84          Tell Me Sweet Little Lies      Monica Lopez   \n",
       "\n",
       "       genre_name total_play_seconds      time        day  \n",
       "0            rock   Saint-Petersburg  20:28:33  Wednesday  \n",
       "1            rock             Moscow  14:07:09     Friday  \n",
       "2             pop   Saint-Petersburg  20:58:07  Wednesday  \n",
       "3            folk   Saint-Petersburg  08:37:09     Monday  \n",
       "4           dance             Moscow  08:34:34     Monday  \n",
       "...           ...                ...       ...        ...  \n",
       "61248         rnb             Moscow  13:32:28  Wednesday  \n",
       "61249         hip   Saint-Petersburg  10:00:00     Monday  \n",
       "61250  industrial             Moscow  20:09:26     Friday  \n",
       "61251        rock             Moscow  21:43:59     Friday  \n",
       "61252     country             Moscow  21:59:46     Friday  \n",
       "\n",
       "[61253 rows x 7 columns]"
      ]
     },
     "execution_count": 74,
     "metadata": {},
     "output_type": "execute_result"
    }
   ],
   "source": [
    "df"
   ]
  },
  {
   "cell_type": "markdown",
   "metadata": {
    "id": "tZqdGprZJZOb"
   },
   "source": [
    "## Вывод\n",
    "\n",
    "На этапе предобработки в данных обнаружились не только пропуски и проблемы с названиями столбцов, но и всяческие виды дубликатов. Их удаление позволит провести анализ точнее. Поскольку сведения о жанрах важно сохранить для анализа, не просто удаляем все пропущенные значения, но заполним пропущенные имена исполнителей и названия треков. Имена столбцов теперь корректны и удобны для дальнейшей работы.\n"
   ]
  },
  {
   "cell_type": "markdown",
   "metadata": {
    "id": "ZhqiNhnpJZOb"
   },
   "source": [
    "# Действительно ли музыку в разных городах слушают по-разному?\n",
    "\n",
    "Была выдвинута гипотеза, что в Москве и Санкт-Петербурге пользователи слушают музыку по-разному. Проверяем это предположение по данным о трёх днях недели — понедельнике, среде и пятнице.\n",
    "\n",
    "Для каждого города устанавливаем количество прослушанных в эти дни композиций с известным жанром, и сравниваем результаты.\n",
    "Группируем данные по городу и вызовом метода count() подсчитываем композиции, для которых известен жанр.\n"
   ]
  },
  {
   "cell_type": "code",
   "execution_count": null,
   "metadata": {
    "id": "kpLJyldmiDZc"
   },
   "outputs": [],
   "source": []
  },
  {
   "cell_type": "code",
   "execution_count": 76,
   "metadata": {
    "colab": {
     "base_uri": "https://localhost:8080/"
    },
    "executionInfo": {
     "elapsed": 482,
     "status": "ok",
     "timestamp": 1727509430859,
     "user": {
      "displayName": "Наиль Нурмухамедов",
      "userId": "09916009234760301992"
     },
     "user_tz": -240
    },
    "id": "fGgsWNEbJZOb",
    "outputId": "ebcf928b-1bd3-4649-b306-ef444b134ed6"
   },
   "outputs": [
    {
     "ename": "KeyError",
     "evalue": "'city'",
     "output_type": "error",
     "traceback": [
      "\u001b[1;31m---------------------------------------------------------------------------\u001b[0m",
      "\u001b[1;31mKeyError\u001b[0m                                  Traceback (most recent call last)",
      "Cell \u001b[1;32mIn[76], line 1\u001b[0m\n\u001b[1;32m----> 1\u001b[0m count_zn \u001b[38;5;241m=\u001b[39m \u001b[43mdf\u001b[49m\u001b[38;5;241;43m.\u001b[39;49m\u001b[43mgroupby\u001b[49m\u001b[43m(\u001b[49m\u001b[38;5;124;43m'\u001b[39;49m\u001b[38;5;124;43mcity\u001b[39;49m\u001b[38;5;124;43m'\u001b[39;49m\u001b[43m)\u001b[49m[\u001b[38;5;124m'\u001b[39m\u001b[38;5;124mgenre_name\u001b[39m\u001b[38;5;124m'\u001b[39m]\u001b[38;5;241m.\u001b[39mcount()\n\u001b[0;32m      2\u001b[0m \u001b[38;5;28mprint\u001b[39m(\u001b[38;5;124mf\u001b[39m\u001b[38;5;124m'\u001b[39m\u001b[38;5;124mКоличество значений столбца \u001b[39m\u001b[38;5;124m\"\u001b[39m\u001b[38;5;124mgenre_name\u001b[39m\u001b[38;5;124m\"\u001b[39m\u001b[38;5;124m: \u001b[39m\u001b[38;5;132;01m{\u001b[39;00mcount_zn\u001b[38;5;132;01m}\u001b[39;00m\u001b[38;5;124m'\u001b[39m)\n",
      "File \u001b[1;32mc:\\Users\\User\\AppData\\Local\\Programs\\Python\\Python312\\Lib\\site-packages\\pandas\\core\\frame.py:9170\u001b[0m, in \u001b[0;36mDataFrame.groupby\u001b[1;34m(self, by, axis, level, as_index, sort, group_keys, observed, dropna)\u001b[0m\n\u001b[0;32m   9167\u001b[0m \u001b[38;5;28;01mif\u001b[39;00m level \u001b[38;5;129;01mis\u001b[39;00m \u001b[38;5;28;01mNone\u001b[39;00m \u001b[38;5;129;01mand\u001b[39;00m by \u001b[38;5;129;01mis\u001b[39;00m \u001b[38;5;28;01mNone\u001b[39;00m:\n\u001b[0;32m   9168\u001b[0m     \u001b[38;5;28;01mraise\u001b[39;00m \u001b[38;5;167;01mTypeError\u001b[39;00m(\u001b[38;5;124m\"\u001b[39m\u001b[38;5;124mYou have to supply one of \u001b[39m\u001b[38;5;124m'\u001b[39m\u001b[38;5;124mby\u001b[39m\u001b[38;5;124m'\u001b[39m\u001b[38;5;124m and \u001b[39m\u001b[38;5;124m'\u001b[39m\u001b[38;5;124mlevel\u001b[39m\u001b[38;5;124m'\u001b[39m\u001b[38;5;124m\"\u001b[39m)\n\u001b[1;32m-> 9170\u001b[0m \u001b[38;5;28;01mreturn\u001b[39;00m \u001b[43mDataFrameGroupBy\u001b[49m\u001b[43m(\u001b[49m\n\u001b[0;32m   9171\u001b[0m \u001b[43m    \u001b[49m\u001b[43mobj\u001b[49m\u001b[38;5;241;43m=\u001b[39;49m\u001b[38;5;28;43mself\u001b[39;49m\u001b[43m,\u001b[49m\n\u001b[0;32m   9172\u001b[0m \u001b[43m    \u001b[49m\u001b[43mkeys\u001b[49m\u001b[38;5;241;43m=\u001b[39;49m\u001b[43mby\u001b[49m\u001b[43m,\u001b[49m\n\u001b[0;32m   9173\u001b[0m \u001b[43m    \u001b[49m\u001b[43maxis\u001b[49m\u001b[38;5;241;43m=\u001b[39;49m\u001b[43maxis\u001b[49m\u001b[43m,\u001b[49m\n\u001b[0;32m   9174\u001b[0m \u001b[43m    \u001b[49m\u001b[43mlevel\u001b[49m\u001b[38;5;241;43m=\u001b[39;49m\u001b[43mlevel\u001b[49m\u001b[43m,\u001b[49m\n\u001b[0;32m   9175\u001b[0m \u001b[43m    \u001b[49m\u001b[43mas_index\u001b[49m\u001b[38;5;241;43m=\u001b[39;49m\u001b[43mas_index\u001b[49m\u001b[43m,\u001b[49m\n\u001b[0;32m   9176\u001b[0m \u001b[43m    \u001b[49m\u001b[43msort\u001b[49m\u001b[38;5;241;43m=\u001b[39;49m\u001b[43msort\u001b[49m\u001b[43m,\u001b[49m\n\u001b[0;32m   9177\u001b[0m \u001b[43m    \u001b[49m\u001b[43mgroup_keys\u001b[49m\u001b[38;5;241;43m=\u001b[39;49m\u001b[43mgroup_keys\u001b[49m\u001b[43m,\u001b[49m\n\u001b[0;32m   9178\u001b[0m \u001b[43m    \u001b[49m\u001b[43mobserved\u001b[49m\u001b[38;5;241;43m=\u001b[39;49m\u001b[43mobserved\u001b[49m\u001b[43m,\u001b[49m\n\u001b[0;32m   9179\u001b[0m \u001b[43m    \u001b[49m\u001b[43mdropna\u001b[49m\u001b[38;5;241;43m=\u001b[39;49m\u001b[43mdropna\u001b[49m\u001b[43m,\u001b[49m\n\u001b[0;32m   9180\u001b[0m \u001b[43m\u001b[49m\u001b[43m)\u001b[49m\n",
      "File \u001b[1;32mc:\\Users\\User\\AppData\\Local\\Programs\\Python\\Python312\\Lib\\site-packages\\pandas\\core\\groupby\\groupby.py:1329\u001b[0m, in \u001b[0;36mGroupBy.__init__\u001b[1;34m(self, obj, keys, axis, level, grouper, exclusions, selection, as_index, sort, group_keys, observed, dropna)\u001b[0m\n\u001b[0;32m   1326\u001b[0m \u001b[38;5;28mself\u001b[39m\u001b[38;5;241m.\u001b[39mdropna \u001b[38;5;241m=\u001b[39m dropna\n\u001b[0;32m   1328\u001b[0m \u001b[38;5;28;01mif\u001b[39;00m grouper \u001b[38;5;129;01mis\u001b[39;00m \u001b[38;5;28;01mNone\u001b[39;00m:\n\u001b[1;32m-> 1329\u001b[0m     grouper, exclusions, obj \u001b[38;5;241m=\u001b[39m \u001b[43mget_grouper\u001b[49m\u001b[43m(\u001b[49m\n\u001b[0;32m   1330\u001b[0m \u001b[43m        \u001b[49m\u001b[43mobj\u001b[49m\u001b[43m,\u001b[49m\n\u001b[0;32m   1331\u001b[0m \u001b[43m        \u001b[49m\u001b[43mkeys\u001b[49m\u001b[43m,\u001b[49m\n\u001b[0;32m   1332\u001b[0m \u001b[43m        \u001b[49m\u001b[43maxis\u001b[49m\u001b[38;5;241;43m=\u001b[39;49m\u001b[43maxis\u001b[49m\u001b[43m,\u001b[49m\n\u001b[0;32m   1333\u001b[0m \u001b[43m        \u001b[49m\u001b[43mlevel\u001b[49m\u001b[38;5;241;43m=\u001b[39;49m\u001b[43mlevel\u001b[49m\u001b[43m,\u001b[49m\n\u001b[0;32m   1334\u001b[0m \u001b[43m        \u001b[49m\u001b[43msort\u001b[49m\u001b[38;5;241;43m=\u001b[39;49m\u001b[43msort\u001b[49m\u001b[43m,\u001b[49m\n\u001b[0;32m   1335\u001b[0m \u001b[43m        \u001b[49m\u001b[43mobserved\u001b[49m\u001b[38;5;241;43m=\u001b[39;49m\u001b[38;5;28;43;01mFalse\u001b[39;49;00m\u001b[43m \u001b[49m\u001b[38;5;28;43;01mif\u001b[39;49;00m\u001b[43m \u001b[49m\u001b[43mobserved\u001b[49m\u001b[43m \u001b[49m\u001b[38;5;129;43;01mis\u001b[39;49;00m\u001b[43m \u001b[49m\u001b[43mlib\u001b[49m\u001b[38;5;241;43m.\u001b[39;49m\u001b[43mno_default\u001b[49m\u001b[43m \u001b[49m\u001b[38;5;28;43;01melse\u001b[39;49;00m\u001b[43m \u001b[49m\u001b[43mobserved\u001b[49m\u001b[43m,\u001b[49m\n\u001b[0;32m   1336\u001b[0m \u001b[43m        \u001b[49m\u001b[43mdropna\u001b[49m\u001b[38;5;241;43m=\u001b[39;49m\u001b[38;5;28;43mself\u001b[39;49m\u001b[38;5;241;43m.\u001b[39;49m\u001b[43mdropna\u001b[49m\u001b[43m,\u001b[49m\n\u001b[0;32m   1337\u001b[0m \u001b[43m    \u001b[49m\u001b[43m)\u001b[49m\n\u001b[0;32m   1339\u001b[0m \u001b[38;5;28;01mif\u001b[39;00m observed \u001b[38;5;129;01mis\u001b[39;00m lib\u001b[38;5;241m.\u001b[39mno_default:\n\u001b[0;32m   1340\u001b[0m     \u001b[38;5;28;01mif\u001b[39;00m \u001b[38;5;28many\u001b[39m(ping\u001b[38;5;241m.\u001b[39m_passed_categorical \u001b[38;5;28;01mfor\u001b[39;00m ping \u001b[38;5;129;01min\u001b[39;00m grouper\u001b[38;5;241m.\u001b[39mgroupings):\n",
      "File \u001b[1;32mc:\\Users\\User\\AppData\\Local\\Programs\\Python\\Python312\\Lib\\site-packages\\pandas\\core\\groupby\\grouper.py:1043\u001b[0m, in \u001b[0;36mget_grouper\u001b[1;34m(obj, key, axis, level, sort, observed, validate, dropna)\u001b[0m\n\u001b[0;32m   1041\u001b[0m         in_axis, level, gpr \u001b[38;5;241m=\u001b[39m \u001b[38;5;28;01mFalse\u001b[39;00m, gpr, \u001b[38;5;28;01mNone\u001b[39;00m\n\u001b[0;32m   1042\u001b[0m     \u001b[38;5;28;01melse\u001b[39;00m:\n\u001b[1;32m-> 1043\u001b[0m         \u001b[38;5;28;01mraise\u001b[39;00m \u001b[38;5;167;01mKeyError\u001b[39;00m(gpr)\n\u001b[0;32m   1044\u001b[0m \u001b[38;5;28;01melif\u001b[39;00m \u001b[38;5;28misinstance\u001b[39m(gpr, Grouper) \u001b[38;5;129;01mand\u001b[39;00m gpr\u001b[38;5;241m.\u001b[39mkey \u001b[38;5;129;01mis\u001b[39;00m \u001b[38;5;129;01mnot\u001b[39;00m \u001b[38;5;28;01mNone\u001b[39;00m:\n\u001b[0;32m   1045\u001b[0m     \u001b[38;5;66;03m# Add key to exclusions\u001b[39;00m\n\u001b[0;32m   1046\u001b[0m     exclusions\u001b[38;5;241m.\u001b[39madd(gpr\u001b[38;5;241m.\u001b[39mkey)\n",
      "\u001b[1;31mKeyError\u001b[0m: 'city'"
     ]
    }
   ],
   "source": [
    "count_zn = df.groupby('city')['genre_name'].count()\n",
    "print(f'Количество значений столбца \"genre_name\": {count_zn}')"
   ]
  },
  {
   "cell_type": "markdown",
   "metadata": {
    "id": "mVzV-sDEJZOc"
   },
   "source": [
    "В Moscow прослушиваний больше, чем в Saint-Petersburg, но это не значит, что Moscow более активна. У Яндекс.Музыки в целом больше пользователей в Москве, поэтому величины сопоставимы.\n",
    "Сгруппируем данные по дню недели и подсчитаем прослушанные в понедельник, среду и пятницу композиции, для которых известен жанр.\n"
   ]
  },
  {
   "cell_type": "code",
   "execution_count": 77,
   "metadata": {
    "colab": {
     "base_uri": "https://localhost:8080/"
    },
    "executionInfo": {
     "elapsed": 506,
     "status": "ok",
     "timestamp": 1727509433426,
     "user": {
      "displayName": "Наиль Нурмухамедов",
      "userId": "09916009234760301992"
     },
     "user_tz": -240
    },
    "id": "GPiCP-vIJZOc",
    "outputId": "5a031935-1c1b-4fc9-f77e-2b4ff30164ea"
   },
   "outputs": [
    {
     "name": "stdout",
     "output_type": "stream",
     "text": [
      "day\n",
      "Friday       21482\n",
      "Monday       20866\n",
      "Wednesday    17778\n",
      "Name: genre_name, dtype: int64\n"
     ]
    }
   ],
   "source": [
    "weekday_counts = df.groupby('day')['genre_name'].count()\n",
    "print(weekday_counts)"
   ]
  },
  {
   "cell_type": "markdown",
   "metadata": {
    "id": "vxxmauMvJZOc"
   },
   "source": [
    "Понедельник и пятница — время для музыки; по средам пользователи немного больше вовлечены в работу.\n",
    "\n",
    "Создаём функцию number_tracks(), которая принимает как параметры таблицу, день недели и название города, а возвращает количество прослушанных композиций, для которых известен жанр. Проверяем количество прослушанных композиций для каждого города и понедельника, затем среды и пятницы.\n"
   ]
  },
  {
   "cell_type": "code",
   "execution_count": 80,
   "metadata": {
    "executionInfo": {
     "elapsed": 2,
     "status": "ok",
     "timestamp": 1727511280871,
     "user": {
      "displayName": "Наиль Нурмухамедов",
      "userId": "09916009234760301992"
     },
     "user_tz": -240
    },
    "id": "v-ZtfE43JZOc"
   },
   "outputs": [],
   "source": [
    "def number_tracks(df, day, city):\n",
    "  track_list = df[(df['day'] == day) & (df['city'] == city)]\n",
    "  track_list_count = track_list['genre_name'].count()\n",
    "  return track_list_count"
   ]
  },
  {
   "cell_type": "code",
   "execution_count": 84,
   "metadata": {
    "colab": {
     "base_uri": "https://localhost:8080/"
    },
    "executionInfo": {
     "elapsed": 604,
     "status": "ok",
     "timestamp": 1727511283172,
     "user": {
      "displayName": "Наиль Нурмухамедов",
      "userId": "09916009234760301992"
     },
     "user_tz": -240
    },
    "id": "F5skMbhZJZOc",
    "outputId": "7632c4b8-7e54-4032-a1d7-97b35dd87d25"
   },
   "outputs": [
    {
     "ename": "KeyError",
     "evalue": "'city'",
     "output_type": "error",
     "traceback": [
      "\u001b[1;31m---------------------------------------------------------------------------\u001b[0m",
      "\u001b[1;31mKeyError\u001b[0m                                  Traceback (most recent call last)",
      "File \u001b[1;32mc:\\Users\\User\\AppData\\Local\\Programs\\Python\\Python312\\Lib\\site-packages\\pandas\\core\\indexes\\base.py:3805\u001b[0m, in \u001b[0;36mIndex.get_loc\u001b[1;34m(self, key)\u001b[0m\n\u001b[0;32m   3804\u001b[0m \u001b[38;5;28;01mtry\u001b[39;00m:\n\u001b[1;32m-> 3805\u001b[0m     \u001b[38;5;28;01mreturn\u001b[39;00m \u001b[38;5;28;43mself\u001b[39;49m\u001b[38;5;241;43m.\u001b[39;49m\u001b[43m_engine\u001b[49m\u001b[38;5;241;43m.\u001b[39;49m\u001b[43mget_loc\u001b[49m\u001b[43m(\u001b[49m\u001b[43mcasted_key\u001b[49m\u001b[43m)\u001b[49m\n\u001b[0;32m   3806\u001b[0m \u001b[38;5;28;01mexcept\u001b[39;00m \u001b[38;5;167;01mKeyError\u001b[39;00m \u001b[38;5;28;01mas\u001b[39;00m err:\n",
      "File \u001b[1;32mindex.pyx:167\u001b[0m, in \u001b[0;36mpandas._libs.index.IndexEngine.get_loc\u001b[1;34m()\u001b[0m\n",
      "File \u001b[1;32mindex.pyx:196\u001b[0m, in \u001b[0;36mpandas._libs.index.IndexEngine.get_loc\u001b[1;34m()\u001b[0m\n",
      "File \u001b[1;32mpandas\\\\_libs\\\\hashtable_class_helper.pxi:7081\u001b[0m, in \u001b[0;36mpandas._libs.hashtable.PyObjectHashTable.get_item\u001b[1;34m()\u001b[0m\n",
      "File \u001b[1;32mpandas\\\\_libs\\\\hashtable_class_helper.pxi:7089\u001b[0m, in \u001b[0;36mpandas._libs.hashtable.PyObjectHashTable.get_item\u001b[1;34m()\u001b[0m\n",
      "\u001b[1;31mKeyError\u001b[0m: 'city'",
      "\nThe above exception was the direct cause of the following exception:\n",
      "\u001b[1;31mKeyError\u001b[0m                                  Traceback (most recent call last)",
      "Cell \u001b[1;32mIn[84], line 1\u001b[0m\n\u001b[1;32m----> 1\u001b[0m result_1 \u001b[38;5;241m=\u001b[39m \u001b[43mnumber_tracks\u001b[49m\u001b[43m(\u001b[49m\u001b[43mdf\u001b[49m\u001b[43m,\u001b[49m\u001b[43m \u001b[49m\u001b[38;5;124;43m\"\u001b[39;49m\u001b[38;5;124;43mMonday\u001b[39;49m\u001b[38;5;124;43m\"\u001b[39;49m\u001b[43m,\u001b[49m\u001b[43m \u001b[49m\u001b[38;5;124;43m\"\u001b[39;49m\u001b[38;5;124;43mMoscow\u001b[39;49m\u001b[38;5;124;43m\"\u001b[39;49m\u001b[43m)\u001b[49m\n\u001b[0;32m      2\u001b[0m \u001b[38;5;28mprint\u001b[39m(\u001b[38;5;124mf\u001b[39m\u001b[38;5;124m\"\u001b[39m\u001b[38;5;124mСписок композиций для Москвы в понедельник: \u001b[39m\u001b[38;5;130;01m\\n\u001b[39;00m\u001b[38;5;132;01m{\u001b[39;00mresult_1\u001b[38;5;132;01m}\u001b[39;00m\u001b[38;5;124m\"\u001b[39m)\n",
      "Cell \u001b[1;32mIn[80], line 2\u001b[0m, in \u001b[0;36mnumber_tracks\u001b[1;34m(df, day, city)\u001b[0m\n\u001b[0;32m      1\u001b[0m \u001b[38;5;28;01mdef\u001b[39;00m \u001b[38;5;21mnumber_tracks\u001b[39m(df, day, city):\n\u001b[1;32m----> 2\u001b[0m   track_list \u001b[38;5;241m=\u001b[39m df[(df[\u001b[38;5;124m'\u001b[39m\u001b[38;5;124mday\u001b[39m\u001b[38;5;124m'\u001b[39m] \u001b[38;5;241m==\u001b[39m day) \u001b[38;5;241m&\u001b[39m (\u001b[43mdf\u001b[49m\u001b[43m[\u001b[49m\u001b[38;5;124;43m'\u001b[39;49m\u001b[38;5;124;43mcity\u001b[39;49m\u001b[38;5;124;43m'\u001b[39;49m\u001b[43m]\u001b[49m \u001b[38;5;241m==\u001b[39m city)]\n\u001b[0;32m      3\u001b[0m   track_list_count \u001b[38;5;241m=\u001b[39m track_list[\u001b[38;5;124m'\u001b[39m\u001b[38;5;124mgenre_name\u001b[39m\u001b[38;5;124m'\u001b[39m]\u001b[38;5;241m.\u001b[39mcount()\n\u001b[0;32m      4\u001b[0m   \u001b[38;5;28;01mreturn\u001b[39;00m track_list_count\n",
      "File \u001b[1;32mc:\\Users\\User\\AppData\\Local\\Programs\\Python\\Python312\\Lib\\site-packages\\pandas\\core\\frame.py:4090\u001b[0m, in \u001b[0;36mDataFrame.__getitem__\u001b[1;34m(self, key)\u001b[0m\n\u001b[0;32m   4088\u001b[0m \u001b[38;5;28;01mif\u001b[39;00m \u001b[38;5;28mself\u001b[39m\u001b[38;5;241m.\u001b[39mcolumns\u001b[38;5;241m.\u001b[39mnlevels \u001b[38;5;241m>\u001b[39m \u001b[38;5;241m1\u001b[39m:\n\u001b[0;32m   4089\u001b[0m     \u001b[38;5;28;01mreturn\u001b[39;00m \u001b[38;5;28mself\u001b[39m\u001b[38;5;241m.\u001b[39m_getitem_multilevel(key)\n\u001b[1;32m-> 4090\u001b[0m indexer \u001b[38;5;241m=\u001b[39m \u001b[38;5;28;43mself\u001b[39;49m\u001b[38;5;241;43m.\u001b[39;49m\u001b[43mcolumns\u001b[49m\u001b[38;5;241;43m.\u001b[39;49m\u001b[43mget_loc\u001b[49m\u001b[43m(\u001b[49m\u001b[43mkey\u001b[49m\u001b[43m)\u001b[49m\n\u001b[0;32m   4091\u001b[0m \u001b[38;5;28;01mif\u001b[39;00m is_integer(indexer):\n\u001b[0;32m   4092\u001b[0m     indexer \u001b[38;5;241m=\u001b[39m [indexer]\n",
      "File \u001b[1;32mc:\\Users\\User\\AppData\\Local\\Programs\\Python\\Python312\\Lib\\site-packages\\pandas\\core\\indexes\\base.py:3812\u001b[0m, in \u001b[0;36mIndex.get_loc\u001b[1;34m(self, key)\u001b[0m\n\u001b[0;32m   3807\u001b[0m     \u001b[38;5;28;01mif\u001b[39;00m \u001b[38;5;28misinstance\u001b[39m(casted_key, \u001b[38;5;28mslice\u001b[39m) \u001b[38;5;129;01mor\u001b[39;00m (\n\u001b[0;32m   3808\u001b[0m         \u001b[38;5;28misinstance\u001b[39m(casted_key, abc\u001b[38;5;241m.\u001b[39mIterable)\n\u001b[0;32m   3809\u001b[0m         \u001b[38;5;129;01mand\u001b[39;00m \u001b[38;5;28many\u001b[39m(\u001b[38;5;28misinstance\u001b[39m(x, \u001b[38;5;28mslice\u001b[39m) \u001b[38;5;28;01mfor\u001b[39;00m x \u001b[38;5;129;01min\u001b[39;00m casted_key)\n\u001b[0;32m   3810\u001b[0m     ):\n\u001b[0;32m   3811\u001b[0m         \u001b[38;5;28;01mraise\u001b[39;00m InvalidIndexError(key)\n\u001b[1;32m-> 3812\u001b[0m     \u001b[38;5;28;01mraise\u001b[39;00m \u001b[38;5;167;01mKeyError\u001b[39;00m(key) \u001b[38;5;28;01mfrom\u001b[39;00m \u001b[38;5;21;01merr\u001b[39;00m\n\u001b[0;32m   3813\u001b[0m \u001b[38;5;28;01mexcept\u001b[39;00m \u001b[38;5;167;01mTypeError\u001b[39;00m:\n\u001b[0;32m   3814\u001b[0m     \u001b[38;5;66;03m# If we have a listlike key, _check_indexing_error will raise\u001b[39;00m\n\u001b[0;32m   3815\u001b[0m     \u001b[38;5;66;03m#  InvalidIndexError. Otherwise we fall through and re-raise\u001b[39;00m\n\u001b[0;32m   3816\u001b[0m     \u001b[38;5;66;03m#  the TypeError.\u001b[39;00m\n\u001b[0;32m   3817\u001b[0m     \u001b[38;5;28mself\u001b[39m\u001b[38;5;241m.\u001b[39m_check_indexing_error(key)\n",
      "\u001b[1;31mKeyError\u001b[0m: 'city'"
     ]
    }
   ],
   "source": [
    "result_1 = number_tracks(df, \"Monday\", \"Moscow\")\n",
    "print(f\"Список композиций для Москвы в понедельник: \\n{result_1}\")"
   ]
  },
  {
   "cell_type": "code",
   "execution_count": null,
   "metadata": {
    "colab": {
     "base_uri": "https://localhost:8080/"
    },
    "executionInfo": {
     "elapsed": 482,
     "status": "ok",
     "timestamp": 1727511290687,
     "user": {
      "displayName": "Наиль Нурмухамедов",
      "userId": "09916009234760301992"
     },
     "user_tz": -240
    },
    "id": "OV4CXymKJZOc",
    "outputId": "c47bd1b0-5e87-487e-d185-a5874a5f8f51"
   },
   "outputs": [
    {
     "name": "stdout",
     "output_type": "stream",
     "text": [
      "Список композиций для Санкт-Петербурга в понедельник: \n",
      "5882\n"
     ]
    }
   ],
   "source": [
    "result_2 = number_tracks(df, \"Monday\", \"Saint-Petersburg\")\n",
    "print(f\"Список композиций для Санкт-Петербурга в понедельник: \\n{result_2}\")"
   ]
  },
  {
   "cell_type": "code",
   "execution_count": null,
   "metadata": {
    "colab": {
     "base_uri": "https://localhost:8080/"
    },
    "executionInfo": {
     "elapsed": 2,
     "status": "ok",
     "timestamp": 1727511291821,
     "user": {
      "displayName": "Наиль Нурмухамедов",
      "userId": "09916009234760301992"
     },
     "user_tz": -240
    },
    "id": "uM-VFEv-JZOd",
    "outputId": "940ebcb7-7652-4490-f5ef-532921771d33"
   },
   "outputs": [
    {
     "name": "stdout",
     "output_type": "stream",
     "text": [
      "Список композиций для Москвы в среду: \n",
      "11547\n"
     ]
    }
   ],
   "source": [
    "result_3 = number_tracks(df, \"Wednesday\", \"Moscow\")\n",
    "print(f\"Список композиций для Москвы в среду: \\n{result_3}\")"
   ]
  },
  {
   "cell_type": "code",
   "execution_count": null,
   "metadata": {
    "colab": {
     "base_uri": "https://localhost:8080/"
    },
    "executionInfo": {
     "elapsed": 2,
     "status": "ok",
     "timestamp": 1727511293583,
     "user": {
      "displayName": "Наиль Нурмухамедов",
      "userId": "09916009234760301992"
     },
     "user_tz": -240
    },
    "id": "9lHM4-2-JZOe",
    "outputId": "96ac94aa-0bb1-4d20-ea73-91fe008e2ef4"
   },
   "outputs": [
    {
     "name": "stdout",
     "output_type": "stream",
     "text": [
      "Список композиций для Санкт-Петербурга в среду: \n",
      "7379\n"
     ]
    }
   ],
   "source": [
    "result_4 = number_tracks(df, \"Wednesday\", \"Saint-Petersburg\")\n",
    "print(f\"Список композиций для Санкт-Петербурга в среду: \\n{result_4}\")"
   ]
  },
  {
   "cell_type": "code",
   "execution_count": null,
   "metadata": {
    "colab": {
     "base_uri": "https://localhost:8080/"
    },
    "executionInfo": {
     "elapsed": 491,
     "status": "ok",
     "timestamp": 1727511295321,
     "user": {
      "displayName": "Наиль Нурмухамедов",
      "userId": "09916009234760301992"
     },
     "user_tz": -240
    },
    "id": "VQILDz5oJZOe",
    "outputId": "8fe3f628-0f07-49a9-9588-23ac18ce7491"
   },
   "outputs": [
    {
     "name": "stdout",
     "output_type": "stream",
     "text": [
      "Список композиций для Москвы в пятницу: \n",
      "16610\n"
     ]
    }
   ],
   "source": [
    "result_5 = number_tracks(df, \"Friday\", \"Moscow\")\n",
    "print(f\"Список композиций для Москвы в пятницу: \\n{result_5}\")"
   ]
  },
  {
   "cell_type": "code",
   "execution_count": null,
   "metadata": {
    "colab": {
     "base_uri": "https://localhost:8080/"
    },
    "executionInfo": {
     "elapsed": 2,
     "status": "ok",
     "timestamp": 1727511296931,
     "user": {
      "displayName": "Наиль Нурмухамедов",
      "userId": "09916009234760301992"
     },
     "user_tz": -240
    },
    "id": "RCxWliSbJZOe",
    "outputId": "f8716e65-b743-4fa2-c83d-9bb4ab237630"
   },
   "outputs": [
    {
     "name": "stdout",
     "output_type": "stream",
     "text": [
      "Список композиций для Санкт-Петербурга в пятницу: \n",
      "6164\n"
     ]
    }
   ],
   "source": [
    "result_6 = number_tracks(df, \"Friday\", \"Saint-Petersburg\")\n",
    "print(f\"Список композиций для Санкт-Петербурга в пятницу: \\n{result_6}\")"
   ]
  },
  {
   "cell_type": "markdown",
   "metadata": {
    "id": "QZWc9ioZJZOe"
   },
   "source": [
    "Сведём полученную информацию в одну таблицу, где ['city', 'monday', 'wednesday', 'friday'] названия столбцов."
   ]
  },
  {
   "cell_type": "code",
   "execution_count": null,
   "metadata": {
    "colab": {
     "base_uri": "https://localhost:8080/",
     "height": 112
    },
    "executionInfo": {
     "elapsed": 489,
     "status": "ok",
     "timestamp": 1727511310317,
     "user": {
      "displayName": "Наиль Нурмухамедов",
      "userId": "09916009234760301992"
     },
     "user_tz": -240
    },
    "id": "f2vqtXONJZOe",
    "outputId": "81dc8da3-f5af-4aeb-838d-8f7c9456d0a2"
   },
   "outputs": [
    {
     "data": {
      "application/vnd.google.colaboratory.intrinsic+json": {
       "summary": "{\n  \"name\": \"df\",\n  \"rows\": 2,\n  \"fields\": [\n    {\n      \"column\": \"city\",\n      \"properties\": {\n        \"dtype\": \"string\",\n        \"num_unique_values\": 2,\n        \"samples\": [\n          \"Saint-Petersburg\",\n          \"Moscow\"\n        ],\n        \"semantic_type\": \"\",\n        \"description\": \"\"\n      }\n    },\n    {\n      \"column\": \"monday\",\n      \"properties\": {\n        \"dtype\": \"number\",\n        \"std\": 7365,\n        \"min\": 5882,\n        \"max\": 16299,\n        \"num_unique_values\": 2,\n        \"samples\": [\n          5882,\n          16299\n        ],\n        \"semantic_type\": \"\",\n        \"description\": \"\"\n      }\n    },\n    {\n      \"column\": \"wednesday\",\n      \"properties\": {\n        \"dtype\": \"number\",\n        \"std\": 2947,\n        \"min\": 7379,\n        \"max\": 11547,\n        \"num_unique_values\": 2,\n        \"samples\": [\n          7379,\n          11547\n        ],\n        \"semantic_type\": \"\",\n        \"description\": \"\"\n      }\n    },\n    {\n      \"column\": \"friday\",\n      \"properties\": {\n        \"dtype\": \"number\",\n        \"std\": 7386,\n        \"min\": 6164,\n        \"max\": 16610,\n        \"num_unique_values\": 2,\n        \"samples\": [\n          6164,\n          16610\n        ],\n        \"semantic_type\": \"\",\n        \"description\": \"\"\n      }\n    }\n  ]\n}",
       "type": "dataframe",
       "variable_name": "df"
      },
      "text/html": [
       "\n",
       "  <div id=\"df-7d3cf685-2ef5-4cdc-83ed-4ba4d137b383\" class=\"colab-df-container\">\n",
       "    <div>\n",
       "<style scoped>\n",
       "    .dataframe tbody tr th:only-of-type {\n",
       "        vertical-align: middle;\n",
       "    }\n",
       "\n",
       "    .dataframe tbody tr th {\n",
       "        vertical-align: top;\n",
       "    }\n",
       "\n",
       "    .dataframe thead th {\n",
       "        text-align: right;\n",
       "    }\n",
       "</style>\n",
       "<table border=\"1\" class=\"dataframe\">\n",
       "  <thead>\n",
       "    <tr style=\"text-align: right;\">\n",
       "      <th></th>\n",
       "      <th>city</th>\n",
       "      <th>monday</th>\n",
       "      <th>wednesday</th>\n",
       "      <th>friday</th>\n",
       "    </tr>\n",
       "  </thead>\n",
       "  <tbody>\n",
       "    <tr>\n",
       "      <th>0</th>\n",
       "      <td>Moscow</td>\n",
       "      <td>16299</td>\n",
       "      <td>11547</td>\n",
       "      <td>16610</td>\n",
       "    </tr>\n",
       "    <tr>\n",
       "      <th>1</th>\n",
       "      <td>Saint-Petersburg</td>\n",
       "      <td>5882</td>\n",
       "      <td>7379</td>\n",
       "      <td>6164</td>\n",
       "    </tr>\n",
       "  </tbody>\n",
       "</table>\n",
       "</div>\n",
       "    <div class=\"colab-df-buttons\">\n",
       "\n",
       "  <div class=\"colab-df-container\">\n",
       "    <button class=\"colab-df-convert\" onclick=\"convertToInteractive('df-7d3cf685-2ef5-4cdc-83ed-4ba4d137b383')\"\n",
       "            title=\"Convert this dataframe to an interactive table.\"\n",
       "            style=\"display:none;\">\n",
       "\n",
       "  <svg xmlns=\"http://www.w3.org/2000/svg\" height=\"24px\" viewBox=\"0 -960 960 960\">\n",
       "    <path d=\"M120-120v-720h720v720H120Zm60-500h600v-160H180v160Zm220 220h160v-160H400v160Zm0 220h160v-160H400v160ZM180-400h160v-160H180v160Zm440 0h160v-160H620v160ZM180-180h160v-160H180v160Zm440 0h160v-160H620v160Z\"/>\n",
       "  </svg>\n",
       "    </button>\n",
       "\n",
       "  <style>\n",
       "    .colab-df-container {\n",
       "      display:flex;\n",
       "      gap: 12px;\n",
       "    }\n",
       "\n",
       "    .colab-df-convert {\n",
       "      background-color: #E8F0FE;\n",
       "      border: none;\n",
       "      border-radius: 50%;\n",
       "      cursor: pointer;\n",
       "      display: none;\n",
       "      fill: #1967D2;\n",
       "      height: 32px;\n",
       "      padding: 0 0 0 0;\n",
       "      width: 32px;\n",
       "    }\n",
       "\n",
       "    .colab-df-convert:hover {\n",
       "      background-color: #E2EBFA;\n",
       "      box-shadow: 0px 1px 2px rgba(60, 64, 67, 0.3), 0px 1px 3px 1px rgba(60, 64, 67, 0.15);\n",
       "      fill: #174EA6;\n",
       "    }\n",
       "\n",
       "    .colab-df-buttons div {\n",
       "      margin-bottom: 4px;\n",
       "    }\n",
       "\n",
       "    [theme=dark] .colab-df-convert {\n",
       "      background-color: #3B4455;\n",
       "      fill: #D2E3FC;\n",
       "    }\n",
       "\n",
       "    [theme=dark] .colab-df-convert:hover {\n",
       "      background-color: #434B5C;\n",
       "      box-shadow: 0px 1px 3px 1px rgba(0, 0, 0, 0.15);\n",
       "      filter: drop-shadow(0px 1px 2px rgba(0, 0, 0, 0.3));\n",
       "      fill: #FFFFFF;\n",
       "    }\n",
       "  </style>\n",
       "\n",
       "    <script>\n",
       "      const buttonEl =\n",
       "        document.querySelector('#df-7d3cf685-2ef5-4cdc-83ed-4ba4d137b383 button.colab-df-convert');\n",
       "      buttonEl.style.display =\n",
       "        google.colab.kernel.accessAllowed ? 'block' : 'none';\n",
       "\n",
       "      async function convertToInteractive(key) {\n",
       "        const element = document.querySelector('#df-7d3cf685-2ef5-4cdc-83ed-4ba4d137b383');\n",
       "        const dataTable =\n",
       "          await google.colab.kernel.invokeFunction('convertToInteractive',\n",
       "                                                    [key], {});\n",
       "        if (!dataTable) return;\n",
       "\n",
       "        const docLinkHtml = 'Like what you see? Visit the ' +\n",
       "          '<a target=\"_blank\" href=https://colab.research.google.com/notebooks/data_table.ipynb>data table notebook</a>'\n",
       "          + ' to learn more about interactive tables.';\n",
       "        element.innerHTML = '';\n",
       "        dataTable['output_type'] = 'display_data';\n",
       "        await google.colab.output.renderOutput(dataTable, element);\n",
       "        const docLink = document.createElement('div');\n",
       "        docLink.innerHTML = docLinkHtml;\n",
       "        element.appendChild(docLink);\n",
       "      }\n",
       "    </script>\n",
       "  </div>\n",
       "\n",
       "\n",
       "<div id=\"df-06769d4d-8b64-461a-9d0e-d238c9e21750\">\n",
       "  <button class=\"colab-df-quickchart\" onclick=\"quickchart('df-06769d4d-8b64-461a-9d0e-d238c9e21750')\"\n",
       "            title=\"Suggest charts\"\n",
       "            style=\"display:none;\">\n",
       "\n",
       "<svg xmlns=\"http://www.w3.org/2000/svg\" height=\"24px\"viewBox=\"0 0 24 24\"\n",
       "     width=\"24px\">\n",
       "    <g>\n",
       "        <path d=\"M19 3H5c-1.1 0-2 .9-2 2v14c0 1.1.9 2 2 2h14c1.1 0 2-.9 2-2V5c0-1.1-.9-2-2-2zM9 17H7v-7h2v7zm4 0h-2V7h2v10zm4 0h-2v-4h2v4z\"/>\n",
       "    </g>\n",
       "</svg>\n",
       "  </button>\n",
       "\n",
       "<style>\n",
       "  .colab-df-quickchart {\n",
       "      --bg-color: #E8F0FE;\n",
       "      --fill-color: #1967D2;\n",
       "      --hover-bg-color: #E2EBFA;\n",
       "      --hover-fill-color: #174EA6;\n",
       "      --disabled-fill-color: #AAA;\n",
       "      --disabled-bg-color: #DDD;\n",
       "  }\n",
       "\n",
       "  [theme=dark] .colab-df-quickchart {\n",
       "      --bg-color: #3B4455;\n",
       "      --fill-color: #D2E3FC;\n",
       "      --hover-bg-color: #434B5C;\n",
       "      --hover-fill-color: #FFFFFF;\n",
       "      --disabled-bg-color: #3B4455;\n",
       "      --disabled-fill-color: #666;\n",
       "  }\n",
       "\n",
       "  .colab-df-quickchart {\n",
       "    background-color: var(--bg-color);\n",
       "    border: none;\n",
       "    border-radius: 50%;\n",
       "    cursor: pointer;\n",
       "    display: none;\n",
       "    fill: var(--fill-color);\n",
       "    height: 32px;\n",
       "    padding: 0;\n",
       "    width: 32px;\n",
       "  }\n",
       "\n",
       "  .colab-df-quickchart:hover {\n",
       "    background-color: var(--hover-bg-color);\n",
       "    box-shadow: 0 1px 2px rgba(60, 64, 67, 0.3), 0 1px 3px 1px rgba(60, 64, 67, 0.15);\n",
       "    fill: var(--button-hover-fill-color);\n",
       "  }\n",
       "\n",
       "  .colab-df-quickchart-complete:disabled,\n",
       "  .colab-df-quickchart-complete:disabled:hover {\n",
       "    background-color: var(--disabled-bg-color);\n",
       "    fill: var(--disabled-fill-color);\n",
       "    box-shadow: none;\n",
       "  }\n",
       "\n",
       "  .colab-df-spinner {\n",
       "    border: 2px solid var(--fill-color);\n",
       "    border-color: transparent;\n",
       "    border-bottom-color: var(--fill-color);\n",
       "    animation:\n",
       "      spin 1s steps(1) infinite;\n",
       "  }\n",
       "\n",
       "  @keyframes spin {\n",
       "    0% {\n",
       "      border-color: transparent;\n",
       "      border-bottom-color: var(--fill-color);\n",
       "      border-left-color: var(--fill-color);\n",
       "    }\n",
       "    20% {\n",
       "      border-color: transparent;\n",
       "      border-left-color: var(--fill-color);\n",
       "      border-top-color: var(--fill-color);\n",
       "    }\n",
       "    30% {\n",
       "      border-color: transparent;\n",
       "      border-left-color: var(--fill-color);\n",
       "      border-top-color: var(--fill-color);\n",
       "      border-right-color: var(--fill-color);\n",
       "    }\n",
       "    40% {\n",
       "      border-color: transparent;\n",
       "      border-right-color: var(--fill-color);\n",
       "      border-top-color: var(--fill-color);\n",
       "    }\n",
       "    60% {\n",
       "      border-color: transparent;\n",
       "      border-right-color: var(--fill-color);\n",
       "    }\n",
       "    80% {\n",
       "      border-color: transparent;\n",
       "      border-right-color: var(--fill-color);\n",
       "      border-bottom-color: var(--fill-color);\n",
       "    }\n",
       "    90% {\n",
       "      border-color: transparent;\n",
       "      border-bottom-color: var(--fill-color);\n",
       "    }\n",
       "  }\n",
       "</style>\n",
       "\n",
       "  <script>\n",
       "    async function quickchart(key) {\n",
       "      const quickchartButtonEl =\n",
       "        document.querySelector('#' + key + ' button');\n",
       "      quickchartButtonEl.disabled = true;  // To prevent multiple clicks.\n",
       "      quickchartButtonEl.classList.add('colab-df-spinner');\n",
       "      try {\n",
       "        const charts = await google.colab.kernel.invokeFunction(\n",
       "            'suggestCharts', [key], {});\n",
       "      } catch (error) {\n",
       "        console.error('Error during call to suggestCharts:', error);\n",
       "      }\n",
       "      quickchartButtonEl.classList.remove('colab-df-spinner');\n",
       "      quickchartButtonEl.classList.add('colab-df-quickchart-complete');\n",
       "    }\n",
       "    (() => {\n",
       "      let quickchartButtonEl =\n",
       "        document.querySelector('#df-06769d4d-8b64-461a-9d0e-d238c9e21750 button');\n",
       "      quickchartButtonEl.style.display =\n",
       "        google.colab.kernel.accessAllowed ? 'block' : 'none';\n",
       "    })();\n",
       "  </script>\n",
       "</div>\n",
       "    </div>\n",
       "  </div>\n"
      ],
      "text/plain": [
       "               city  monday  wednesday  friday\n",
       "0            Moscow   16299      11547   16610\n",
       "1  Saint-Petersburg    5882       7379    6164"
      ]
     },
     "execution_count": 50,
     "metadata": {},
     "output_type": "execute_result"
    }
   ],
   "source": [
    "inf = [\n",
    "    ['Moscow', result_1, result_3, result_5],\n",
    "    ['Saint-Petersburg', result_2, result_4, result_6]\n",
    "]\n",
    "\n",
    "columns = ['city', 'monday', 'wednesday', 'friday']\n",
    "df = pd.DataFrame(data=inf, columns=columns)\n",
    "df"
   ]
  },
  {
   "cell_type": "markdown",
   "metadata": {
    "id": "fbl9GVjZJZOe"
   },
   "source": [
    "## Вывод\n",
    "\n",
    "*Запишите здесь ваши выводы.Опишите закономерности, которые вы наблюдаете по дням недели и городам*"
   ]
  },
  {
   "cell_type": "markdown",
   "metadata": {
    "id": "IZU_ouz1JZOf"
   },
   "source": [
    "# Утро понедельника и вечер пятницы — разная музыка или одна и та же?\n",
    "\n",
    "Ищем ответ на вопрос, какие жанры преобладают в разных городах в понедельник утром и в пятницу вечером. Есть предположение, что в понедельник утром пользователи слушают больше бодрящей музыки (например, жанра поп), а вечером пятницы — больше танцевальных (например, электронику).\n",
    "Получим таблицы данных по Москве moscow_general и по Санкт-Петербургу spb_general.\n"
   ]
  },
  {
   "cell_type": "code",
   "execution_count": null,
   "metadata": {
    "executionInfo": {
     "elapsed": 489,
     "status": "ok",
     "timestamp": 1727511997068,
     "user": {
      "displayName": "Наиль Нурмухамедов",
      "userId": "09916009234760301992"
     },
     "user_tz": -240
    },
    "id": "cnfd33_IJZOf"
   },
   "outputs": [],
   "source": [
    "moscow_general = df[df['city'] == 'Moscow']\n",
    "spb_general = df[df['city'] == 'Saint-Petersburg']\n"
   ]
  },
  {
   "cell_type": "markdown",
   "metadata": {
    "id": "Gsex6bhSJZOf"
   },
   "source": [
    "Создаём функцию genre_weekday(), которая возвращает список жанров по запрошенному дню недели и времени суток с такого-то часа по такой-то."
   ]
  },
  {
   "cell_type": "code",
   "execution_count": null,
   "metadata": {
    "executionInfo": {
     "elapsed": 478,
     "status": "ok",
     "timestamp": 1727511842883,
     "user": {
      "displayName": "Наиль Нурмухамедов",
      "userId": "09916009234760301992"
     },
     "user_tz": -240
    },
    "id": "gQ1CxZXFJZOf"
   },
   "outputs": [],
   "source": [
    "def genre_weekday(df, day, time1, time2):\n",
    "    genre_list = df[(df['day'] == day) & (df['time'] > time1) & (df['time'] < time2)]\n",
    "    genre_list_sorted = genre_list['genre_name'].value_counts().head(10)\n",
    "    return genre_list_sorted"
   ]
  },
  {
   "cell_type": "markdown",
   "metadata": {
    "id": "tRQccMyyJZOf"
   },
   "source": [
    "Cравниваем полученные результаты по таблице для Москвы и Санкт-Петербурга в понедельник утром (с 7 до 11) и в пятницу вечером (с 17 до 23)."
   ]
  },
  {
   "cell_type": "code",
   "execution_count": null,
   "metadata": {
    "colab": {
     "base_uri": "https://localhost:8080/"
    },
    "executionInfo": {
     "elapsed": 467,
     "status": "ok",
     "timestamp": 1727512021180,
     "user": {
      "displayName": "Наиль Нурмухамедов",
      "userId": "09916009234760301992"
     },
     "user_tz": -240
    },
    "id": "q0GdwVFpJZOg",
    "outputId": "2caf1a66-bd59-41ec-ed38-09ff722c0c08"
   },
   "outputs": [
    {
     "name": "stdout",
     "output_type": "stream",
     "text": [
      "Популярные жанры в Москве в понедельник утром:\n",
      " genre_name\n",
      "pop            830\n",
      "dance          589\n",
      "rock           511\n",
      "electronic     501\n",
      "hip            306\n",
      "ruspop         203\n",
      "world          190\n",
      "rusrap         188\n",
      "alternative    175\n",
      "classical      167\n",
      "Name: count, dtype: int64\n"
     ]
    }
   ],
   "source": [
    "moscow_monday_morning = genre_weekday(moscow_general, 'Monday', '07:00', '11:00')\n",
    "print(\"Популярные жанры в Москве в понедельник утром:\\n\", moscow_monday_morning)"
   ]
  },
  {
   "cell_type": "code",
   "execution_count": null,
   "metadata": {
    "colab": {
     "base_uri": "https://localhost:8080/"
    },
    "executionInfo": {
     "elapsed": 509,
     "status": "ok",
     "timestamp": 1727512023715,
     "user": {
      "displayName": "Наиль Нурмухамедов",
      "userId": "09916009234760301992"
     },
     "user_tz": -240
    },
    "id": "ENXm2OeSJZOg",
    "outputId": "388afc03-c691-4364-a330-b94444812a1e"
   },
   "outputs": [
    {
     "name": "stdout",
     "output_type": "stream",
     "text": [
      "Популярные жанры в Санкт-Петербурге в понедельник утром:\n",
      " genre_name\n",
      "pop            238\n",
      "dance          192\n",
      "rock           173\n",
      "electronic     154\n",
      "hip             87\n",
      "ruspop          68\n",
      "alternative     65\n",
      "rusrap          56\n",
      "jazz            47\n",
      "classical       42\n",
      "Name: count, dtype: int64\n"
     ]
    }
   ],
   "source": [
    "spb_monday_morning = genre_weekday(spb_general, 'Monday', '07:00', '11:00')\n",
    "print(\"Популярные жанры в Санкт-Петербурге в понедельник утром:\\n\", spb_monday_morning)"
   ]
  },
  {
   "cell_type": "code",
   "execution_count": null,
   "metadata": {
    "colab": {
     "base_uri": "https://localhost:8080/"
    },
    "executionInfo": {
     "elapsed": 504,
     "status": "ok",
     "timestamp": 1727512025848,
     "user": {
      "displayName": "Наиль Нурмухамедов",
      "userId": "09916009234760301992"
     },
     "user_tz": -240
    },
    "id": "O1WqHHgZJZOg",
    "outputId": "c3549e49-72b6-423b-999d-d505f5e2adc3"
   },
   "outputs": [
    {
     "name": "stdout",
     "output_type": "stream",
     "text": [
      "Популярные жанры в Москве в пятницу вечером:\n",
      " genre_name\n",
      "pop            761\n",
      "rock           546\n",
      "dance          521\n",
      "electronic     510\n",
      "hip            276\n",
      "world          220\n",
      "ruspop         184\n",
      "alternative    176\n",
      "classical      171\n",
      "rusrap         151\n",
      "Name: count, dtype: int64\n"
     ]
    }
   ],
   "source": [
    "moscow_friday_evening = genre_weekday(moscow_general, 'Friday', '17:00', '23:00')\n",
    "print(\"Популярные жанры в Москве в пятницу вечером:\\n\", moscow_friday_evening)"
   ]
  },
  {
   "cell_type": "code",
   "execution_count": null,
   "metadata": {
    "colab": {
     "base_uri": "https://localhost:8080/"
    },
    "executionInfo": {
     "elapsed": 485,
     "status": "ok",
     "timestamp": 1727512028254,
     "user": {
      "displayName": "Наиль Нурмухамедов",
      "userId": "09916009234760301992"
     },
     "user_tz": -240
    },
    "id": "Zy9vgFf9JZOg",
    "outputId": "39074e7e-20cb-4371-c83f-ffe6b9ed1510"
   },
   "outputs": [
    {
     "name": "stdout",
     "output_type": "stream",
     "text": [
      "Популярные жанры в Санкт-Петербурге в пятницу вечером:\n",
      " genre_name\n",
      "pop            279\n",
      "rock           230\n",
      "electronic     227\n",
      "dance          221\n",
      "hip            100\n",
      "alternative     67\n",
      "jazz            66\n",
      "rusrap          66\n",
      "classical       64\n",
      "world           60\n",
      "Name: count, dtype: int64\n"
     ]
    }
   ],
   "source": [
    "spb_friday_evening = genre_weekday(spb_general, 'Friday', '17:00', '23:00')\n",
    "print(\"Популярные жанры в Санкт-Петербурге в пятницу вечером:\\n\", spb_friday_evening)"
   ]
  },
  {
   "cell_type": "markdown",
   "metadata": {
    "id": "f-9fECbDJZOg"
   },
   "source": [
    "Популярные жанры в понедельник утром в Питере и Москве оказались похожи: везде, как и предполагалось, популярен *(вставьте сюда название жанра)*. Несмотря на это, концовка топ-10 для двух городов различается: в Питере в топ-10 входит джаз и русский рэп, а в Москве жанр world.\n",
    "\n",
    "*(Опишите здесь, меняется ли ситуация в музыкальными предпочтениями в конце недели, заметна ли разница в концовке ТОП-10)*\n",
    "\n",
    "## Вывод\n",
    "Жанр *(вставьте сюда название жанра)* безусловный лидер, а топ-5 в целом не различается в обеих столицах. При этом видно, что концовка списка более «живая»: для каждого города выделяются более характерные жанры, которые действительно меняют свои позиции в зависимости от дня недели и времени.\n"
   ]
  },
  {
   "cell_type": "markdown",
   "metadata": {
    "id": "TMN16bl2JZOg"
   },
   "source": [
    "# Москва и Питер — две разные столицы, два разных направления в музыке. Правда?\n",
    "\n",
    "Гипотеза: Питер богат своей рэп-культурой, поэтому это направление там слушают чаще, а Москва — город контрастов, но основная масса пользователей слушает попсу.\n",
    "\n",
    "Сгруппируем таблицу moscow_general по жанру, сосчитаем численность композиций каждого жанра методом count(), отсортируем в порядке убывания и сохраним результат в таблице moscow_genres.\n",
    "\n",
    "Просмотрим первые 10 строк этой новой таблицы.\n"
   ]
  },
  {
   "cell_type": "code",
   "execution_count": null,
   "metadata": {
    "executionInfo": {
     "elapsed": 483,
     "status": "ok",
     "timestamp": 1727512300064,
     "user": {
      "displayName": "Наиль Нурмухамедов",
      "userId": "09916009234760301992"
     },
     "user_tz": -240
    },
    "id": "4XdhpjTtJZOh"
   },
   "outputs": [],
   "source": [
    "moscow_genres = moscow_general.groupby('genre_name').size().reset_index(name='count')\n",
    "moscow_genres = moscow_genres.sort_values(by='count', ascending=False)"
   ]
  },
  {
   "cell_type": "code",
   "execution_count": null,
   "metadata": {
    "colab": {
     "base_uri": "https://localhost:8080/"
    },
    "executionInfo": {
     "elapsed": 482,
     "status": "ok",
     "timestamp": 1727512303271,
     "user": {
      "displayName": "Наиль Нурмухамедов",
      "userId": "09916009234760301992"
     },
     "user_tz": -240
    },
    "id": "y9CVFaW0JZOh",
    "outputId": "974fad45-a711-4649-858e-2ac898b56193"
   },
   "outputs": [
    {
     "name": "stdout",
     "output_type": "stream",
     "text": [
      "      genre_name  count\n",
      "178          pop   6253\n",
      "55         dance   4707\n",
      "203         rock   4188\n",
      "74    electronic   4010\n",
      "112          hip   2156\n",
      "46     classical   1712\n",
      "266        world   1516\n",
      "6    alternative   1466\n",
      "209       ruspop   1453\n",
      "210       rusrap   1239\n"
     ]
    }
   ],
   "source": [
    "print(moscow_genres.head(10))"
   ]
  },
  {
   "cell_type": "markdown",
   "metadata": {
    "id": "DaDxIpXUJZOh"
   },
   "source": [
    "Сгруппируем таблицу spb_general по жанру, сосчитаем численность композиций каждого жанра методом count(), отсортируем в порядке убывания и сохраним результат в таблице spb_genres.\n",
    "\n",
    "Просматриваем первые 10 строк этой таблицы. Теперь можно сравнивать два города.\n"
   ]
  },
  {
   "cell_type": "code",
   "execution_count": null,
   "metadata": {
    "executionInfo": {
     "elapsed": 481,
     "status": "ok",
     "timestamp": 1727512394847,
     "user": {
      "displayName": "Наиль Нурмухамедов",
      "userId": "09916009234760301992"
     },
     "user_tz": -240
    },
    "id": "10SZIQW1JZOh"
   },
   "outputs": [],
   "source": [
    "spb_genres = spb_general.groupby('genre_name').size().reset_index(name='count')\n",
    "spb_genres = spb_genres.sort_values(by='count', ascending=False)"
   ]
  },
  {
   "cell_type": "code",
   "execution_count": null,
   "metadata": {
    "colab": {
     "base_uri": "https://localhost:8080/"
    },
    "executionInfo": {
     "elapsed": 3,
     "status": "ok",
     "timestamp": 1727512396532,
     "user": {
      "displayName": "Наиль Нурмухамедов",
      "userId": "09916009234760301992"
     },
     "user_tz": -240
    },
    "id": "EuBQw0BnJZOh",
    "outputId": "1fc33c65-cd36-473b-bebc-7cd6d1969c4e"
   },
   "outputs": [
    {
     "name": "stdout",
     "output_type": "stream",
     "text": [
      "      genre_name  count\n",
      "141          pop   2597\n",
      "43         dance   2054\n",
      "163         rock   2004\n",
      "58    electronic   1842\n",
      "93           hip    992\n",
      "3    alternative    700\n",
      "35     classical    684\n",
      "168       rusrap    604\n",
      "167       ruspop    565\n",
      "208        world    553\n"
     ]
    }
   ],
   "source": [
    "print(spb_genres.head(10))"
   ]
  },
  {
   "cell_type": "markdown",
   "metadata": {
    "id": "L_MsNftjJZOi"
   },
   "source": [
    "## Вывод\n",
    "В Москве, кроме абсолютно популярного жанра поп, есть направление русской популярной музыки. Значит, что интерес к этому жанру шире. А рэп, вопреки предположению, занимает в обоих городах близкие позиции.\n"
   ]
  },
  {
   "cell_type": "markdown",
   "metadata": {
    "id": "BO9_WshDJZOi"
   },
   "source": [
    "# Результаты исследования\n",
    "\n",
    "Рабочие гипотезы:\n",
    "\n",
    "•\tмузыку в двух городах — Москве и Санкт-Петербурге — слушают в разном режиме;\n",
    "\n",
    "•\tсписки десяти самых популярных жанров утром в понедельник и вечером в пятницу имеют характерные отличия;\n",
    "\n",
    "•\tнаселение двух городов предпочитает разные музыкальные жанры.\n",
    "\n",
    "**Общие результаты**\n",
    "\n",
    "Москва и Петербург сходятся во вкусах: везде преобладает популярная музыка. При этом зависимости предпочтений от дня недели в каждом отдельном городе нет — люди постоянно слушают то, что им нравится. Но между городами в разрезе дней неделей наблюдается зеркальность относительно среды: Москва больше слушает в понедельник и пятницу, а Петербург наоборот - больше в среду, но меньше в понедельник и пятницу.\n",
    "В результате первая гипотеза *подтверждена / не подтверждена*, вторая гипотеза *подтверждена / не подтверждена* и третья не подтверждена >.*подтверждена / не подтверждена*\n",
    "\n",
    "## Заключение\n",
    "\n",
    "В результате проведенного анализа было установлено, что:\n",
    "\n",
    "1. **Музыкальные предпочтения в Москве и Санкт-Петербурге различаются**. В Москве наблюдается больший интерес к популярной музыке, тогда как в Санкт-Петербурге пользователи более открыты к разнообразию жанров.\n",
    "\n",
    "2. **Популярные жанры**: в обоих городах жанры поп и русский рэп занимают высокие позиции, что подтверждает гипотезу о широкой популярности этих направлений.\n",
    "\n",
    "3. **Рекомендации**: музыкантам и организаторам мероприятий следует учитывать эти различия при планировании концертов и мероприятий в разных городах.\n",
    "\n",
    "4. **Ограничения**: анализ проводился на основе данных за ограниченный период времени, что может не учитывать временные изменения в музыкальных предпочтениях.\n",
    "\n",
    "5. **Будущие исследования**: стоит изучить, как другие факторы, такие как возраст или пол слушателей, могут влиять на их музыкальные предпочтения.\n",
    "\n",
    "Таким образом, полученные результаты подтверждают наши гипотезы о различиях в музыкальных предпочтениях между двумя столицами России.\n",
    "\n"
   ]
  }
 ],
 "metadata": {
  "colab": {
   "provenance": []
  },
  "kernelspec": {
   "display_name": "Python 3",
   "language": "python",
   "name": "python3"
  },
  "language_info": {
   "codemirror_mode": {
    "name": "ipython",
    "version": 3
   },
   "file_extension": ".py",
   "mimetype": "text/x-python",
   "name": "python",
   "nbconvert_exporter": "python",
   "pygments_lexer": "ipython3",
   "version": "3.12.2"
  }
 },
 "nbformat": 4,
 "nbformat_minor": 0
}
