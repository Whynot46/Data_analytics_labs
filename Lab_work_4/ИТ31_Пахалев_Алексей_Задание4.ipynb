{
 "cells": [
  {
   "cell_type": "markdown",
   "metadata": {
    "id": "HacOi8Ve_jut"
   },
   "source": [
    "# Анализ и обработка результатов\n",
    "\n",
    "В анализе данных важно наглядное представление результатов, чтобы их мог оценить заказчик. Это бизнес, где на кону громадный трафик, серверные мощности, личное время многотысячной аудитории. И одновременно это исследование.\n",
    "\n",
    "Как в настоящей экспериментальной науке, ответ непредсказуем. Его точность зависит от умелого владения статистическими методами и от качества исходных данных. Перед тем, как начинать считать, проверьте, грамотно ли ваши данные подготовлены.\n",
    "\n",
    "# Группировка данных\n",
    "\n",
    "Слово «анализ» означает разбор, рассмотрение с разных сторон. Анализ данных начинают с разделения их на группы по какому-нибудь признаку. Эта операция называется группировка данных. Она помогает изучить материал более подробно, чтобы затем перейти к поиску взаимосвязей между отдельными группами.\n",
    "\n",
    "\n",
    "Группировка оправданна, если данные чётко делятся по значимому признаку, а полученные группы близки к теме задачи. Например, когда есть данные обо всех покупках в супермаркете, можно смело заниматься группировкой. Так можно установить время наплыва покупателей и решить проблему пиковых нагрузок. Или посчитать средний чек — обычно для магазинов это ключевая метрика.\n",
    "\n",
    "\n",
    "Стадии группировки хорошо укладываются в словесную формулу **split-apply-combine**:\n",
    "\n",
    "•\tразделить, **split** — разбиение на группы по определённому критерию;\n",
    "\n",
    "•\tприменить, **apply** — применение какого-либо метода к каждой группе в отдельности, например, подсчёт численности группы методом count() или суммирование вызовом sum();\n",
    "\n",
    "•\tобъединить, **combine** — сведение результатов в новую структуру данных, в зависимости от условий разделения и выполнения метода это бывает DataFrame и Series.\n",
    "\n",
    "На картинке изображен принцип **split-apply-combine** для таблицы с экзопланетами. Посмотрим, как вообще идут дела с поиском экзопланет. Сначала данные делят по группам, где каждая группа — это год. Потом метод **count()** подсчитывает численность каждой группы. В итоге получаем новую структуру данных с группами, где каждая содержит год и число открытых за этот год экзопланет.\n",
    "\n",
    "![image.png](attachment:image.png)\n",
    "\n",
    "В Рandas для группировки данных есть метод **groupby()**. Он принимает как аргумент название столбца, по которому нужно группировать. В случае с делением экзопланет по годам открытия:\n",
    "\n",
    "**print(exoplanet.groupby('discovered'))**\n",
    "\n",
    "**<pandas.core.groupby.DataFrameGroupBy object at 0x7fc1e1ca3400>**\n",
    "\n",
    "\n",
    "Применение метода **groupby()** к объекту типа DataFrame приводит к созданию объекта особого типа — **DataFrameGroupBy**. Это сгруппированные данные. Если применить к ним какой-нибудь метод Pandas, они станут новой структурой данных типа **DataFrame** или **Series**.\n",
    "Подсчитаем сгруппированные по годам экзопланеты методом **count()**:\n",
    "\n",
    "Если нужно сравнить наблюдения по одному показателю, метод применяют к **DataFrameGroupBy** с указанием на один столбец. Нас в первую очередь интересует радиус экзопланет: мы ищем другую Землю. Давайте получим таблицу с единственным столбцом 'radius':\n",
    "\n",
    "**exo_number = exoplanet.groupby('discovered')['radius'].count()**\n",
    "\n",
    "**print(exo_number)**\n",
    "\n",
    "Получили Series, где по годам открытия расписано количество экзопланет, для которых удалось установить радиус.\n",
    "\n",
    "Посмотрим, как меняется средний радиус открытых экзопланет год от года. Для этого надо сложить радиусы планет, открытых за определённый год, и поделить на их количество (которое мы уже нашли).\n",
    "\n",
    "Сумма радиусов считается методом **sum()**:\n",
    "\n",
    "**exo_radius_sum = exoplanet.groupby('discovered')['radius'].sum()**\n",
    "\n",
    "\n",
    "**print(exo_radius_sum)**\n",
    "\n",
    "\n",
    "\n",
    "## Задача\n",
    "Вашему вниманию предлагается датасет с обзором показателей самоубийств с 1985 по 2016 год — Сравнение социально-экономической информации с показателями самоубийств по годам и странам.\n",
    "\n",
    "Столбцами этой таблицы являются: страна, год, пол, возрастная группа, количество самоубийств, население, уровень самоубийств, сводный ключ по стране за год, ИЧР (индекс человеческого развития) за год, ВВП за год, ВВП на душу населения, поколение (на основе среднего по возрастной группе).\n",
    "\n",
    "1. Загрузите таблицу master, содержащую данные о самоубийствах. Выведите на экран таблицу и оцените данные, обратите внимание на названия столбцов, переименуйте их, если это необходимо.\n",
    "\n",
    "2. Убедитесь в том, что данные прошли предподготовку.  Пропущенные и неопределённые значения выявляет метод isna(), а суммарное количество таких значений — метод sum().\n",
    "\n",
    "3. Сгруппируйте DataFrame по столбцу country, сохраните полученный результат в переменной country_grouping.\n",
    "\n",
    "4. Посчитайте количество случаев самоубийств по странам, которые были совершены, методом **sum()**, указав, что выбираем один столбец suicides_no.\n",
    "\n",
    "Сохраните результат в переменной country_sum и выведите первые 30 строк этой таблицы.\n",
    "\n"
   ]
  },
  {
   "cell_type": "code",
   "execution_count": 1,
   "metadata": {
    "colab": {
     "base_uri": "https://localhost:8080/"
    },
    "executionInfo": {
     "elapsed": 392,
     "status": "ok",
     "timestamp": 1727439888286,
     "user": {
      "displayName": "Наиль Нурмухамедов",
      "userId": "09916009234760301992"
     },
     "user_tz": -240
    },
    "id": "qT13WRPc_ju1",
    "outputId": "51363724-9465-4926-b9a5-e6a5c78174d5",
    "scrolled": true
   },
   "outputs": [
    {
     "name": "stdout",
     "output_type": "stream",
     "text": [
      "Вывод таблицы: \n",
      "   country  year     sex          age  suicides_no  population  \\\n",
      "0  Albania  1987    male  15-24 years           21      312900   \n",
      "1  Albania  1987    male  35-54 years           16      308000   \n",
      "2  Albania  1987  female  15-24 years           14      289700   \n",
      "3  Albania  1987    male    75+ years            1       21800   \n",
      "4  Albania  1987    male  25-34 years            9      274300   \n",
      "\n",
      "   suicides_div_100k_pop country_year  HDI_for_year gdp_for_year_dollar  \\\n",
      "0                   6.71  Albania1987           NaN       2,156,624,900   \n",
      "1                   5.19  Albania1987           NaN       2,156,624,900   \n",
      "2                   4.83  Albania1987           NaN       2,156,624,900   \n",
      "3                   4.59  Albania1987           NaN       2,156,624,900   \n",
      "4                   3.28  Albania1987           NaN       2,156,624,900   \n",
      "\n",
      "   gdp_per_capita_dollar       generation  \n",
      "0                    796     Generation X  \n",
      "1                    796           Silent  \n",
      "2                    796     Generation X  \n",
      "3                    796  G.I. Generation  \n",
      "4                    796          Boomers  \n",
      "\n",
      "Проверка данных на пропущенные и неопределенные значения: \n",
      "country                  0\n",
      "year                     0\n",
      "sex                      0\n",
      "age                      0\n",
      "suicides_no              0\n",
      "population               0\n",
      "suicides_div_100k_pop    0\n",
      "country_year             0\n",
      "HDI_for_year             0\n",
      "gdp_for_year_dollar      0\n",
      "gdp_per_capita_dollar    0\n",
      "generation               0\n",
      "dtype: int64\n",
      "\n",
      "country\n",
      "Albania                     238\n",
      "Antigua and Barbuda           0\n",
      "Argentina                 27485\n",
      "Armenia                     628\n",
      "Australia                 19654\n",
      "Austria                   15124\n",
      "Azerbaijan                  111\n",
      "Bahamas                      39\n",
      "Bahrain                     152\n",
      "Barbados                     54\n",
      "Belarus                   11757\n",
      "Belgium                   20424\n",
      "Belize                      154\n",
      "Bosnia and Herzegovina      318\n",
      "Brazil                    81549\n",
      "Bulgaria                  10516\n",
      "Canada                    33612\n",
      "Chile                     14907\n",
      "Colombia                  17940\n",
      "Costa Rica                 2513\n",
      "Croatia                    6397\n",
      "Cuba                      12998\n",
      "Cyprus                      217\n",
      "Czech Republic            14760\n",
      "Denmark                    5335\n",
      "Ecuador                    7080\n",
      "El Salvador                4373\n",
      "Estonia                    2381\n",
      "Fiji                         92\n",
      "Finland                    9474\n",
      "Name: suicides_no, dtype: int64\n",
      "\n",
      "Количество женщин, совершивших суицид от 30 до 35 лет: 53841\n"
     ]
    }
   ],
   "source": [
    "import pandas as pd\n",
    "\n",
    "df = pd.read_csv('./master.csv')\n",
    "\n",
    "# 1.\n",
    "# Переиминуем название колонок\n",
    "new_names = ['country', 'year', 'sex', 'age', 'suicides_no', 'population', 'suicides_div_100k_pop', 'country_year', 'HDI_for_year', 'gdp_for_year_dollar', 'gdp_per_capita_dollar', 'generation']\n",
    "new_table = df.set_axis(new_names, axis='columns')\n",
    "print(f\"Вывод таблицы: \\n{new_table.head()}\\n\")\n",
    "# 2.\n",
    "new_table.dropna(subset='HDI_for_year', inplace=True)\n",
    "print(f\"Проверка данных на пропущенные и неопределенные значения: \\n{new_table.isna().sum()}\\n\")\n",
    "# 3.\n",
    "country_grouping = new_table.groupby('country')\n",
    "# 4.\n",
    "country_sum = country_grouping['suicides_no'].sum()\n",
    "print(country_sum.head(30))\n",
    "\n",
    "#Количество женщин, совершивших суицид от 30 до 35 лет\n",
    "count_female_30_35 = new_table[(new_table['sex'] == 'female') & (new_table['age'] == '25-34 years')]['suicides_no'].sum()\n",
    "print(f\"\\nКоличество женщин, совершивших суицид от 30 до 35 лет: {count_female_30_35}\")\n",
    "\n"
   ]
  },
  {
   "cell_type": "markdown",
   "metadata": {
    "id": "wUGy6k4__ju3"
   },
   "source": [
    "# Сортировка данных\n",
    "\n",
    "\n",
    "Поиск необычного в группе — что среди планет, что среди меломанов — это прежде всего поиск чемпионов: объектов с выдающимися показателями по разным статьям. Как всю таблицу, так и отдельные группы изучают, сортируя строки по какому-либо столбцу.\n",
    "\n",
    "В Pandas для этой операции есть метод **sort_values()**. У него два аргумента:\n",
    "\n",
    "• **by = 'имя столбца'** — имя столбца, по которому нужно сортировать;\n",
    "\n",
    "• **ascending:** по умолчанию True. Для сортировки по убыванию установите значение False.\n",
    "\n",
    "![image.png](attachment:image.png)\n",
    "\n",
    "\n",
    "Среди экзопланет интересны близкие по размерам к Земле. Есть ли такие? Отсортируем список по радиусу в порядке возрастания. Тогда в голове таблицы окажутся самые малые, на которых гравитация не прижмёт нас к полу.\n",
    "\n",
    "**print(exoplanet.sort_values(by='radius').head(30))**\n",
    "\n",
    "Оказывается, некоторые из уже открытых экзопланет по размерам близки не то что к Земле, но уже и к Луне! Получим список экзопланет с радиусом меньше земного. Смотрите, как логический оператор (здесь это <) задействуется в отборе элементов столбца. Дальше нам этот приём не раз понадобится.\n",
    "\n",
    "**print(exoplanet[exoplanet['radius'] < 1])**\n",
    "\n",
    "Но и этот список такой длинный, что изучать его лучше по частям. Экзопланеты, близкие по размерам к Земле, за последнее десятилетие открывали нередко. Можно изучать список открытых за каждый год. Например, для 2014 года (вновь обратите внимание на работу логического оператора, теперь это ==):\n",
    "\n",
    "**print(exoplanet[exoplanet['discovered'] == 2014])**\n",
    "\n",
    "А чтобы не тратить время на лишнее, поставим оба условия сразу. Для этого в Pandas есть логический оператор &, подобный оператору and языка Python. Напомним, его смысл на русском языке можно передать словами «и ещё»:\n",
    "\n",
    "**exo_small_14 = exoplanet[ (exoplanet['radius']<1) & (exoplanet['discovered']==2014)]**\n",
    "\n",
    "**print(exo_small_14)**\n",
    "\n",
    "Отсортируем результат в порядке убывания радиуса.\n",
    "\n",
    "**print(exo_small_14.sort_values(by = 'radius', ascending = False))**\n",
    "\n",
    "\n",
    "\n"
   ]
  },
  {
   "cell_type": "markdown",
   "metadata": {
    "id": "iRdQW7OX_ju4"
   },
   "source": [
    "## Задача\n",
    "1. Выделим пятерки стран с самым низким и самым высоким уровнем самоубийств в мире."
   ]
  },
  {
   "cell_type": "code",
   "execution_count": 3,
   "metadata": {
    "colab": {
     "base_uri": "https://localhost:8080/"
    },
    "executionInfo": {
     "elapsed": 309,
     "status": "ok",
     "timestamp": 1726752438002,
     "user": {
      "displayName": "Наиль Нурмухамедов",
      "userId": "09916009234760301992"
     },
     "user_tz": -240
    },
    "id": "aJ6lgKc2_ju5",
    "outputId": "1d541631-3c14-491a-dbd2-d279f02892f2"
   },
   "outputs": [
    {
     "name": "stdout",
     "output_type": "stream",
     "text": [
      "Пять стран с самым высоким уровнем самоубийств: \n",
      "country\n",
      "United States    355963\n",
      "Japan            259729\n",
      "France           106296\n",
      "Germany           98542\n",
      "Ukraine           85362\n",
      "Name: suicides_no, dtype: int64\n",
      "\n",
      "Пять стран с самым низким уровнем самоубийств: \n",
      "country\n",
      "Antigua and Barbuda     0\n",
      "Grenada                 3\n",
      "Maldives                4\n",
      "Oman                   20\n",
      "Seychelles             32\n",
      "Name: suicides_no, dtype: int64\n",
      "\n"
     ]
    }
   ],
   "source": [
    "import pandas as pd\n",
    "\n",
    "df = pd.read_csv('./master.csv')\n",
    "\n",
    "# Предыдущая часть заданий---------------\n",
    "new_names = ['country', 'year', 'sex', 'age', 'suicides_no', 'population', 'suicides_div_100k_pop', 'country_year', 'HDI_for_year', 'gdp_for_year_dollar', 'gdp_per_capita_dollar', 'generation']\n",
    "new_table = df.set_axis(new_names, axis='columns')\n",
    "new_table.dropna(subset='HDI_for_year', inplace=True)\n",
    "country_grouping = new_table.groupby('country')\n",
    "country_sum = country_grouping['suicides_no'].sum()\n",
    "# --------------------------------------\n",
    "# 1.\n",
    "country_sum_sort_up = country_sum.sort_values()\n",
    "country_sum_sort_down = country_sum.sort_values(ascending=False)\n",
    "print(f\"Пять стран с самым высоким уровнем самоубийств: \\n{country_sum_sort_down.head(5)}\\n\")\n",
    "print(f\"Пять стран с самым низким уровнем самоубийств: \\n{country_sum_sort_up.head(5)}\\n\")\n",
    "\n"
   ]
  },
  {
   "cell_type": "markdown",
   "metadata": {
    "id": "RpX853CF_ju6"
   },
   "source": [
    "2. Исследуйте распределение количества суидидов по гендерному признаку. Найдите лидеров и антилидеров по количеству самоубийств среди женщин. Повторяется ли картина по сравнению с предыдущим исследованием?"
   ]
  },
  {
   "cell_type": "code",
   "execution_count": 11,
   "metadata": {
    "colab": {
     "base_uri": "https://localhost:8080/"
    },
    "executionInfo": {
     "elapsed": 327,
     "status": "ok",
     "timestamp": 1726752742586,
     "user": {
      "displayName": "Наиль Нурмухамедов",
      "userId": "09916009234760301992"
     },
     "user_tz": -240
    },
    "id": "ZfeYBVfU_ju6",
    "outputId": "79b1cc69-d722-43f4-af19-71593ae6076b"
   },
   "outputs": [
    {
     "name": "stdout",
     "output_type": "stream",
     "text": [
      "Распределение количества суидидов по гендерному признаку: \n",
      "sex\n",
      "female     411000\n",
      "male      1313024\n",
      "Name: suicides_no, dtype: int64\n",
      "\n",
      "Лидер по количеству самоубийств среди женщин: \n",
      "   country     sex  suicides_no\n",
      "86   Japan  female        80683\n",
      "\n",
      "Анти-лидер по количеству самоубийств среди женщин: \n",
      "               country     sex  suicides_no\n",
      "2  Antigua and Barbuda  female            0\n",
      "\n"
     ]
    }
   ],
   "source": [
    "sex_grouping = new_table.groupby('sex')\n",
    "sex_sum = sex_grouping['suicides_no'].sum()\n",
    "print(f\"Распределение количества суидидов по гендерному признаку: \\n{sex_sum}\\n\")\n",
    "# 1. Группируем по странам и полу\n",
    "country_gender_grouping = new_table.groupby(['country', 'sex'])['suicides_no'].sum().reset_index()\n",
    "\n",
    "# 2. Извлекаем данные только для женщин\n",
    "female_suicides_leader = country_gender_grouping[country_gender_grouping['sex'] == 'female'].sort_values(by='suicides_no', ascending=False).head(1)\n",
    "female_suicides_anti_leader = country_gender_grouping[country_gender_grouping['sex'] == 'female'].sort_values(by='suicides_no').head(1)\n",
    "print(f\"Лидер по количеству самоубийств среди женщин: \\n{female_suicides_leader}\\n\")\n",
    "print(f\"Анти-лидер по количеству самоубийств среди женщин: \\n{female_suicides_anti_leader}\\n\")"
   ]
  },
  {
   "cell_type": "markdown",
   "metadata": {
    "id": "8RF0__jR_ju7"
   },
   "source": [
    "# Описательная статистика\n",
    "\n",
    "Чтобы представить себе среднестатистического самоубийцу, понадобится описательная статистика.\n",
    "\n",
    "Из её показателей для количественного описания данных в нашей задаче нужны четыре меры — максимум, минимум, медиана и среднее.\n",
    "\n",
    "Наибольшее и наименьшее обычно вычисляют только по одному признаку. Например, можно получить минимальное и максимальное значение уровня самоубийств (количество самоубийств на 100 тыс.населения) (столбец 'suicides/100k pop'). Для поиска максимума вызывают метод max(), примененный к этому столбцу:\n",
    "\n",
    "print(master['suicides/100k pop'].max())\n"
   ]
  },
  {
   "cell_type": "code",
   "execution_count": 12,
   "metadata": {
    "colab": {
     "base_uri": "https://localhost:8080/"
    },
    "executionInfo": {
     "elapsed": 363,
     "status": "ok",
     "timestamp": 1726681016732,
     "user": {
      "displayName": "Наиль Нурмухамедов",
      "userId": "09916009234760301992"
     },
     "user_tz": -240
    },
    "id": "5awBqkYw_ju8",
    "outputId": "4c9cc6ed-3108-4b7d-dd33-6f6ea37a1bea"
   },
   "outputs": [
    {
     "name": "stdout",
     "output_type": "stream",
     "text": [
      "Максимальное значение уровня самоубийств: 187.06\n",
      "Минимальное значение уровня самоубийств: 0.0\n",
      "Медиана уровня самоубийств: 5.72\n",
      "Среднее значение уровня самоубийств: 11.991935676709707\n"
     ]
    }
   ],
   "source": [
    "#\n",
    "# Вычисляем максимум, минимум, медиану и среднее\n",
    "max_value = new_table['suicides_div_100k_pop'].max()\n",
    "min_value = new_table['suicides_div_100k_pop'].min()\n",
    "median_value = new_table['suicides_div_100k_pop'].median()\n",
    "mean_value = new_table['suicides_div_100k_pop'].mean()\n",
    "\n",
    "# Вывод результатов\n",
    "print(f\"Максимальное значение уровня самоубийств: {max_value}\")\n",
    "print(f\"Минимальное значение уровня самоубийств: {min_value}\")\n",
    "print(f\"Медиана уровня самоубийств: {median_value}\")\n",
    "print(f\"Среднее значение уровня самоубийств: {mean_value}\")"
   ]
  },
  {
   "cell_type": "markdown",
   "metadata": {
    "id": "0jO2ojIR_ju8"
   },
   "source": [
    "Самый высокий показатель оказался 224.97 самоубийств на 100 тыс.населения. Интересно, в какой стране такая ситуация.\n",
    "\n",
    "Запросим из master строку с максимальным значением, прибегнув к логической индексации с условием\n",
    "\n",
    "**master['suicides/100k pop'] == master['suicides/100k pop'].max()**"
   ]
  },
  {
   "cell_type": "code",
   "execution_count": 13,
   "metadata": {
    "colab": {
     "base_uri": "https://localhost:8080/",
     "height": 458
    },
    "executionInfo": {
     "elapsed": 346,
     "status": "ok",
     "timestamp": 1726681119071,
     "user": {
      "displayName": "Наиль Нурмухамедов",
      "userId": "09916009234760301992"
     },
     "user_tz": -240
    },
    "id": "_Mm6yuPI_ju9",
    "outputId": "7e417453-a5d7-47da-921b-777282d0994b"
   },
   "outputs": [
    {
     "data": {
      "text/plain": [
       "72       False\n",
       "73       False\n",
       "74       False\n",
       "75       False\n",
       "76       False\n",
       "         ...  \n",
       "27815    False\n",
       "27816    False\n",
       "27817    False\n",
       "27818    False\n",
       "27819    False\n",
       "Name: suicides_div_100k_pop, Length: 8364, dtype: bool"
      ]
     },
     "execution_count": 13,
     "metadata": {},
     "output_type": "execute_result"
    }
   ],
   "source": [
    "#Youre code is here\n",
    "new_table['suicides_div_100k_pop'] == new_table['suicides_div_100k_pop'].max()"
   ]
  },
  {
   "cell_type": "markdown",
   "metadata": {
    "id": "ZF3SA4wm_ju9"
   },
   "source": [
    "Минимальное значение — ищут методом **min()**. Нам интересно установить случаи, когда уровень суицидов минимальный, но не нулевой.\n",
    "\n",
    "Вот как мы создаём выборку  и находим в ней минимальное значение:\n",
    "\n",
    "**master_drop_null = master[master['suicides/100k pop'] != 0]**\n",
    "\n",
    "**print(master_drop_null['suicides/100k pop'].min())**\n"
   ]
  },
  {
   "cell_type": "code",
   "execution_count": 18,
   "metadata": {
    "colab": {
     "base_uri": "https://localhost:8080/"
    },
    "executionInfo": {
     "elapsed": 332,
     "status": "ok",
     "timestamp": 1726681153843,
     "user": {
      "displayName": "Наиль Нурмухамедов",
      "userId": "09916009234760301992"
     },
     "user_tz": -240
    },
    "id": "w1LTEfiM_ju9",
    "outputId": "8e43c5fd-a5c0-46e4-ffa5-c7f5a640ba31"
   },
   "outputs": [
    {
     "name": "stdout",
     "output_type": "stream",
     "text": [
      "0.02\n"
     ]
    }
   ],
   "source": [
    "master_drop_null = new_table[new_table['suicides_div_100k_pop'] != 0]\n",
    "\n",
    "print(master_drop_null['suicides_div_100k_pop'].min())"
   ]
  },
  {
   "cell_type": "markdown",
   "metadata": {
    "id": "dE3JoxyE_ju-"
   },
   "source": [
    "Получим название самой \"счастливой\" страны. Как и при поиске максимума, воспользуемся условием и логической индексацией"
   ]
  },
  {
   "cell_type": "code",
   "execution_count": 22,
   "metadata": {
    "colab": {
     "base_uri": "https://localhost:8080/",
     "height": 81
    },
    "executionInfo": {
     "elapsed": 342,
     "status": "ok",
     "timestamp": 1726681239041,
     "user": {
      "displayName": "Наиль Нурмухамедов",
      "userId": "09916009234760301992"
     },
     "user_tz": -240
    },
    "id": "hK-ZQlAu_ju-",
    "outputId": "719a31b0-83f9-464c-a159-d7cf974160f3"
   },
   "outputs": [
    {
     "data": {
      "text/html": [
       "<div>\n",
       "<style scoped>\n",
       "    .dataframe tbody tr th:only-of-type {\n",
       "        vertical-align: middle;\n",
       "    }\n",
       "\n",
       "    .dataframe tbody tr th {\n",
       "        vertical-align: top;\n",
       "    }\n",
       "\n",
       "    .dataframe thead th {\n",
       "        text-align: right;\n",
       "    }\n",
       "</style>\n",
       "<table border=\"1\" class=\"dataframe\">\n",
       "  <thead>\n",
       "    <tr style=\"text-align: right;\">\n",
       "      <th></th>\n",
       "      <th>country</th>\n",
       "      <th>year</th>\n",
       "      <th>sex</th>\n",
       "      <th>age</th>\n",
       "      <th>suicides_no</th>\n",
       "      <th>population</th>\n",
       "      <th>suicides_div_100k_pop</th>\n",
       "      <th>country_year</th>\n",
       "      <th>HDI_for_year</th>\n",
       "      <th>gdp_for_year_dollar</th>\n",
       "      <th>gdp_per_capita_dollar</th>\n",
       "      <th>generation</th>\n",
       "    </tr>\n",
       "  </thead>\n",
       "  <tbody>\n",
       "    <tr>\n",
       "      <th>142</th>\n",
       "      <td>Albania</td>\n",
       "      <td>2000</td>\n",
       "      <td>female</td>\n",
       "      <td>5-14 years</td>\n",
       "      <td>0</td>\n",
       "      <td>324700</td>\n",
       "      <td>0.0</td>\n",
       "      <td>Albania2000</td>\n",
       "      <td>0.656</td>\n",
       "      <td>3,632,043,908</td>\n",
       "      <td>1299</td>\n",
       "      <td>Millenials</td>\n",
       "    </tr>\n",
       "  </tbody>\n",
       "</table>\n",
       "</div>"
      ],
      "text/plain": [
       "     country  year     sex         age  suicides_no  population  \\\n",
       "142  Albania  2000  female  5-14 years            0      324700   \n",
       "\n",
       "     suicides_div_100k_pop country_year  HDI_for_year gdp_for_year_dollar  \\\n",
       "142                    0.0  Albania2000         0.656       3,632,043,908   \n",
       "\n",
       "     gdp_per_capita_dollar  generation  \n",
       "142                   1299  Millenials  "
      ]
     },
     "execution_count": 22,
     "metadata": {},
     "output_type": "execute_result"
    }
   ],
   "source": [
    "new_table[new_table['suicides_div_100k_pop'] == new_table['suicides_div_100k_pop'].min()].head(1)"
   ]
  },
  {
   "cell_type": "markdown",
   "metadata": {
    "id": "qgZ71gK4_ju-"
   },
   "source": [
    "Результат вывода — две страны, которые соответствуют минимальному значению.\n",
    "На основе полученных данных можно сделать вывод, что число совершенных самоубийств на 100 тыс. населения  находится в диапазоне от 0,02 до 224.97 секунд, не включая пропущенные.\n",
    "\n",
    "Это знание пригодится, чтобы разобраться с медианой и средним арифметическим.\n",
    "\n",
    "Среднее и медиана оценивают значения в центре выборки. Если тех строк, где число с большим количеством самоубийц, столько же, сколько тех, где это число мало — среднее подойдет. Но когда есть оторванные от основной массы лидеры, их результаты сильно смещают значение среднего вверх. Вот почему оценивать в этом случае лучше медианой.\n",
    "\n",
    "![image.png](attachment:image.png)\n",
    "\n",
    "В геометрии медиана делит фигуру на две равные по площади. В статистике она делит выборку пополам: в одной половине значения меньше медианного, в другой больше. Логично, что для определения медианы список обязательно должен быть отсортирован — либо по возрастанию, либо по убыванию.\n",
    "Когда количество значений нечётное, медиана будет равна тому значению, которое оказалось ровно посередине отсортированного набора. Если же количество данных чётное, то медиана рассчитывается как среднее арифметическое двух соседних чисел в середине набора.\n",
    "\n"
   ]
  },
  {
   "cell_type": "markdown",
   "metadata": {
    "id": "vfk4Le-w_ju_"
   },
   "source": [
    "В Pandas есть метод **median()**, который считает медиану. По аналогии с **min()** и **max()** его можно применять ко всей таблице, к отдельному столбцу или к сгруппированным данным. Теперь применим медиану ко всем значениям времени прослушивания в нашей таблице, исключив нулевые:\n",
    "\n"
   ]
  },
  {
   "cell_type": "code",
   "execution_count": null,
   "metadata": {
    "colab": {
     "base_uri": "https://localhost:8080/"
    },
    "executionInfo": {
     "elapsed": 354,
     "status": "ok",
     "timestamp": 1726681376457,
     "user": {
      "displayName": "Наиль Нурмухамедов",
      "userId": "09916009234760301992"
     },
     "user_tz": -240
    },
    "id": "Nu3s0XjG_ju_",
    "outputId": "426c4c57-4fca-4758-de24-98a5b302ddc2"
   },
   "outputs": [
    {
     "data": {
      "text/plain": [
       "5.72"
      ]
     },
     "execution_count": 20,
     "metadata": {},
     "output_type": "execute_result"
    }
   ],
   "source": [
    "new_table['suicides_div_100k_pop'].median()"
   ]
  },
  {
   "cell_type": "markdown",
   "metadata": {
    "id": "FpSCPhkJ_ju_"
   },
   "source": [
    "Чтобы убедиться, что лидеры действительно смещают средний показатель вверх, найдём среднее арифметическое всех этих значений методом mean():"
   ]
  },
  {
   "cell_type": "code",
   "execution_count": 21,
   "metadata": {
    "colab": {
     "base_uri": "https://localhost:8080/"
    },
    "executionInfo": {
     "elapsed": 405,
     "status": "ok",
     "timestamp": 1726681388352,
     "user": {
      "displayName": "Наиль Нурмухамедов",
      "userId": "09916009234760301992"
     },
     "user_tz": -240
    },
    "id": "yh7L53AP_ju_",
    "outputId": "43c68daa-d1ca-462a-fe87-ff7902c08a4d"
   },
   "outputs": [
    {
     "data": {
      "text/plain": [
       "11.991935676709707"
      ]
     },
     "execution_count": 21,
     "metadata": {},
     "output_type": "execute_result"
    }
   ],
   "source": [
    "#Youre code is here\n",
    "new_table['suicides_div_100k_pop'].mean()"
   ]
  }
 ],
 "metadata": {
  "colab": {
   "provenance": []
  },
  "kernelspec": {
   "display_name": "Python 3",
   "language": "python",
   "name": "python3"
  },
  "language_info": {
   "codemirror_mode": {
    "name": "ipython",
    "version": 3
   },
   "file_extension": ".py",
   "mimetype": "text/x-python",
   "name": "python",
   "nbconvert_exporter": "python",
   "pygments_lexer": "ipython3",
   "version": "3.12.2"
  }
 },
 "nbformat": 4,
 "nbformat_minor": 0
}
